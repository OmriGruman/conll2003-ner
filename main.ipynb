{
  "cells": [
    {
      "attachments": {},
      "cell_type": "markdown",
      "metadata": {
        "id": "lzvrOf5fKZKy"
      },
      "source": [
        "# Named Entity Recognition: RNN vs Pre-Trained Transformer"
      ]
    },
    {
      "attachments": {},
      "cell_type": "markdown",
      "metadata": {
        "id": "SKCYvMgxKZKz"
      },
      "source": [
        "## Setup"
      ]
    },
    {
      "cell_type": "code",
      "execution_count": 168,
      "metadata": {
        "id": "RbCGrBgIKZK0"
      },
      "outputs": [],
      "source": [
        "# Data\n",
        "import numpy as np\n",
        "import matplotlib.pyplot as plt\n",
        "import seaborn as sns\n",
        "\n",
        "# GloVe\n",
        "import gensim.downloader\n",
        "\n",
        "# DL\n",
        "import torch\n",
        "import torch.nn as nn\n",
        "from torch.utils.data import Dataset, DataLoader\n",
        "from torch.nn.utils.rnn import pack_sequence, unpack_sequence\n",
        "\n",
        "# Hugging Face\n",
        "from datasets import load_dataset"
      ]
    },
    {
      "attachments": {},
      "cell_type": "markdown",
      "metadata": {
        "id": "a8QnxHZ4KZK2"
      },
      "source": [
        "## 1 RNN"
      ]
    },
    {
      "attachments": {},
      "cell_type": "markdown",
      "metadata": {
        "id": "UlBcI2CuKZK2"
      },
      "source": [
        "### 1.1 Data Exploration & Analysis"
      ]
    },
    {
      "cell_type": "code",
      "execution_count": 222,
      "metadata": {},
      "outputs": [],
      "source": [
        "glove_embeddings = gensim.downloader.load(\"glove-wiki-gigaword-300\")"
      ]
    },
    {
      "cell_type": "code",
      "execution_count": null,
      "metadata": {},
      "outputs": [
        {
          "data": {
            "text/plain": [
              "(400000, 300)"
            ]
          },
          "execution_count": 11,
          "metadata": {},
          "output_type": "execute_result"
        }
      ],
      "source": [
        "len(glove_embeddings), len(glove_embeddings[0])"
      ]
    },
    {
      "cell_type": "code",
      "execution_count": 3,
      "metadata": {},
      "outputs": [
        {
          "name": "stderr",
          "output_type": "stream",
          "text": [
            "Found cached dataset conll2003 (C:/Users/markk/.cache/huggingface/datasets/conll2003/conll2003/1.0.0/9a4d16a94f8674ba3466315300359b0acd891b68b6c8743ddf60b9c702adce98)\n",
            "100%|██████████| 3/3 [00:00<00:00, 296.10it/s]\n"
          ]
        }
      ],
      "source": [
        "conll2003_dataset = load_dataset(\"conll2003\")"
      ]
    },
    {
      "cell_type": "code",
      "execution_count": 4,
      "metadata": {},
      "outputs": [
        {
          "data": {
            "text/plain": [
              "[14041, 3250, 3453]"
            ]
          },
          "execution_count": 4,
          "metadata": {},
          "output_type": "execute_result"
        }
      ],
      "source": [
        "[dataset.num_rows for dataset in conll2003_dataset.values()]"
      ]
    },
    {
      "cell_type": "code",
      "execution_count": 5,
      "metadata": {},
      "outputs": [
        {
          "data": {
            "text/plain": [
              "{'id': Value(dtype='string', id=None),\n",
              " 'tokens': Sequence(feature=Value(dtype='string', id=None), length=-1, id=None),\n",
              " 'pos_tags': Sequence(feature=ClassLabel(names=['\"', \"''\", '#', '$', '(', ')', ',', '.', ':', '``', 'CC', 'CD', 'DT', 'EX', 'FW', 'IN', 'JJ', 'JJR', 'JJS', 'LS', 'MD', 'NN', 'NNP', 'NNPS', 'NNS', 'NN|SYM', 'PDT', 'POS', 'PRP', 'PRP$', 'RB', 'RBR', 'RBS', 'RP', 'SYM', 'TO', 'UH', 'VB', 'VBD', 'VBG', 'VBN', 'VBP', 'VBZ', 'WDT', 'WP', 'WP$', 'WRB'], id=None), length=-1, id=None),\n",
              " 'chunk_tags': Sequence(feature=ClassLabel(names=['O', 'B-ADJP', 'I-ADJP', 'B-ADVP', 'I-ADVP', 'B-CONJP', 'I-CONJP', 'B-INTJ', 'I-INTJ', 'B-LST', 'I-LST', 'B-NP', 'I-NP', 'B-PP', 'I-PP', 'B-PRT', 'I-PRT', 'B-SBAR', 'I-SBAR', 'B-UCP', 'I-UCP', 'B-VP', 'I-VP'], id=None), length=-1, id=None),\n",
              " 'ner_tags': Sequence(feature=ClassLabel(names=['O', 'B-PER', 'I-PER', 'B-ORG', 'I-ORG', 'B-LOC', 'I-LOC', 'B-MISC', 'I-MISC'], id=None), length=-1, id=None)}"
            ]
          },
          "execution_count": 5,
          "metadata": {},
          "output_type": "execute_result"
        }
      ],
      "source": [
        "conll2003_dataset['train'].features"
      ]
    },
    {
      "cell_type": "code",
      "execution_count": 111,
      "metadata": {},
      "outputs": [
        {
          "data": {
            "image/png": "[encoded data removed]",
            "text/plain": [
              "<Figure size 640x480 with 1 Axes>"
            ]
          },
          "metadata": {},
          "output_type": "display_data"
        }
      ],
      "source": [
        "sentences = conll2003_dataset['train'][:]['tokens']\n",
        "plt.hist([len(s) for s in sentences], bins=90)\n",
        "plt.show()"
      ]
    },
    {
      "cell_type": "code",
      "execution_count": 6,
      "metadata": {},
      "outputs": [
        {
          "data": {
            "text/plain": [
              "({'O': 0,\n",
              "  'B-PER': 1,\n",
              "  'I-PER': 2,\n",
              "  'B-ORG': 3,\n",
              "  'I-ORG': 4,\n",
              "  'B-LOC': 5,\n",
              "  'I-LOC': 6,\n",
              "  'B-MISC': 7,\n",
              "  'I-MISC': 8},\n",
              " {0: 'O',\n",
              "  1: 'B-PER',\n",
              "  2: 'I-PER',\n",
              "  3: 'B-ORG',\n",
              "  4: 'I-ORG',\n",
              "  5: 'B-LOC',\n",
              "  6: 'I-LOC',\n",
              "  7: 'B-MISC',\n",
              "  8: 'I-MISC'})"
            ]
          },
          "execution_count": 6,
          "metadata": {},
          "output_type": "execute_result"
        }
      ],
      "source": [
        "tag2id = {tag: i for i, tag in enumerate(conll2003_dataset['train'].features['ner_tags'].feature.names)}\n",
        "id2tag = {i: tag for i, tag in enumerate(conll2003_dataset['train'].features['ner_tags'].feature.names)}\n",
        "\n",
        "tag2id, id2tag"
      ]
    },
    {
      "cell_type": "code",
      "execution_count": 7,
      "metadata": {},
      "outputs": [
        {
          "name": "stdout",
          "output_type": "stream",
          "text": [
            "23623\n",
            "9966\n"
          ]
        }
      ],
      "source": [
        "all_tokens = []\n",
        "\n",
        "for sequence in conll2003_dataset['train']:\n",
        "    all_tokens = list(set(all_tokens + sequence['tokens']))\n",
        "    \n",
        "print(len(all_tokens))\n",
        "\n",
        "all_tokens = []\n",
        "\n",
        "for sequence in conll2003_dataset['validation']:\n",
        "    all_tokens = list(set(all_tokens + sequence['tokens']))\n",
        "    \n",
        "print(len(all_tokens))"
      ]
    },
    {
      "cell_type": "code",
      "execution_count": 453,
      "metadata": {},
      "outputs": [],
      "source": [
        "max_len = 500\n",
        "\n",
        "def get_keys_from_DataSet(DS_NAME, keys = ['tokens','ner_tags']):\n",
        "     return [conll2003_dataset[DS_NAME][:max_len].get(key) for key in keys]\n",
        " \n",
        "\n",
        "# Split data\n",
        "train_data, train_label = get_keys_from_DataSet('train')\n",
        "val_data, val_label= get_keys_from_DataSet('validation')\n",
        "test_data, test_label  = get_keys_from_DataSet('test')"
      ]
    },
    {
      "attachments": {},
      "cell_type": "markdown",
      "metadata": {
        "id": "HbOtr-9DKZK6"
      },
      "source": [
        "### 1.2 Dataset & Dataloader"
      ]
    },
    {
      "cell_type": "code",
      "execution_count": 454,
      "metadata": {},
      "outputs": [],
      "source": [
        "UNKNOWN = '<unk>'\n",
        "\n",
        "vocab = []\n",
        "for line in train_data:\n",
        "  vocab += line\n",
        "vocab+= [UNKNOWN]\n",
        "\n",
        "# Create dictionaries to convert between tokens and indices\n",
        "token_to_index = {tok: i for i, tok in enumerate(set(vocab))}\n",
        "index_to_token = {i: tok for i, tok in enumerate(set(vocab))}\n",
        "\n",
        "def word_to_index(word):\n",
        "    if word in token_to_index:\n",
        "        return token_to_index[word]\n",
        "    return token_to_index[UNKNOWN]"
      ]
    },
    {
      "cell_type": "code",
      "execution_count": 455,
      "metadata": {},
      "outputs": [],
      "source": [
        "class LanguageModelDataset(Dataset):\n",
        "    def __init__(self, data, labels):      \n",
        "        data_as_index = [list(map(word_to_index, sentence)) for sentence in data]  \n",
        "        self.X = data_as_index\n",
        "        self.y = labels\n",
        "\n",
        "    def __getitem__(self, i):\n",
        "        return self.X[i], self.y[i]\n",
        "\n",
        "    def __len__(self):\n",
        "        return len(self.y)"
      ]
    },
    {
      "cell_type": "code",
      "execution_count": 456,
      "metadata": {},
      "outputs": [],
      "source": [
        "train_dataset = LanguageModelDataset(train_data, train_label)\n",
        "val_dataset = LanguageModelDataset(val_data, val_label)\n",
        "test_dataset = LanguageModelDataset(test_data, test_label)"
      ]
    },
    {
      "cell_type": "code",
      "execution_count": 457,
      "metadata": {},
      "outputs": [],
      "source": [
        "def my_collate_fn(batch):\n",
        "    padded_batch = pack_sequence([torch.tensor(sample[0], dtype=torch.long) for sample in batch], enforce_sorted=False)\n",
        "    labels = pack_sequence([torch.tensor(sample[1], dtype=torch.long) for sample in batch], enforce_sorted=False)\n",
        "    return padded_batch, labels"
      ]
    },
    {
      "cell_type": "code",
      "execution_count": 516,
      "metadata": {},
      "outputs": [],
      "source": [
        "batch_size = 1\n",
        "\n",
        "# Create a DataLoader object\n",
        "train_dataloader = DataLoader(dataset=train_dataset, batch_size=batch_size, shuffle=True, collate_fn=my_collate_fn)\n",
        "val_dataloader = DataLoader(dataset=val_dataset, batch_size=batch_size, shuffle=True, collate_fn=my_collate_fn)\n",
        "test_dataloader = DataLoader(dataset=test_dataset, batch_size=batch_size, shuffle=False, collate_fn=my_collate_fn)"
      ]
    },
    {
      "cell_type": "code",
      "execution_count": 517,
      "metadata": {},
      "outputs": [
        {
          "name": "stdout",
          "output_type": "stream",
          "text": [
            "['EU', 'rejects', 'German', 'call', 'to', 'boycott', 'British', 'lamb', '.'] [3, 0, 7, 0, 0, 0, 7, 0, 0]\n",
            "\n",
            "(['Attendance', ':', '8,000'], [0, 0, 0])\n",
            "\n",
            "\n",
            "(['BEIRUT', '1996-08-22'], [5, 0])\n",
            "(['At', 'Cardiff', ':', 'Kent', '128-1', '(', 'M.', 'Walker', '59', ',', 'D.', 'Fulton', '53', 'not', 'out', ')', 'v'], [0, 5, 0, 3, 0, 0, 1, 2, 0, 0, 1, 2, 0, 0, 0, 0, 0])\n",
            "(['PARIS', '1996-08-22'], [5, 0])\n",
            "(['We', 'do', 'not', 'want', 'a', 'war', ',', 'God', 'forbid', '.'], [0, 0, 0, 0, 0, 0, 0, 1, 0, 0])\n",
            "(['BORROWER', 'BAYERISCHE', 'VEREINSBANK'], [0, 3, 4])\n",
            "(['Ferguson', ',', 'who', 'served', 'six', 'weeks', 'in', 'jail', 'in', 'late', '1995', 'for', 'head-butting', 'an', 'opponent', ',', 'won', 'the', 'last', 'of', 'his', 'five', 'Scotland', 'caps', 'in', 'December', '1994', '.'], [1, 0, 0, 0, 0, 0, 0, 0, 0, 0, 0, 0, 0, 0, 0, 0, 0, 0, 0, 0, 0, 0, 5, 0, 0, 0, 0, 0])\n",
            "(['The', 'company', 'said', 'that', 'during', 'the', 'quarter', ',', 'which', 'began', 'June', '1', ',', 'it', 'bought', '$', '30', 'million', 'par', 'value', 'of', 'its', 'outstanding', '10-3/8', 'percent', 'senior', 'notes', 'due', '2001', '.'], [0, 0, 0, 0, 0, 0, 0, 0, 0, 0, 0, 0, 0, 0, 0, 0, 0, 0, 0, 0, 0, 0, 0, 0, 0, 0, 0, 0, 0, 0])\n",
            "(['Three', 'plugged', 'water', 'injection', 'wells', 'on', 'the', 'Heidrun', 'oilfield', 'off', 'mid-Norway', 'will', 'be', 'reopened', 'over', 'the', 'next', 'month', ',', 'operator', 'Den', 'Norske', 'Stats', 'Oljeselskap', 'AS', '(', 'Statoil', ')', 'said', 'on', 'Thursday', '.'], [0, 0, 0, 0, 0, 0, 0, 5, 0, 0, 7, 0, 0, 0, 0, 0, 0, 0, 0, 0, 3, 4, 4, 4, 4, 0, 3, 0, 0, 0, 0, 0])\n",
            "(['Third', 'was', 'Ford', 'with', '35,563', 'registrations', ',', 'or', '11.7', 'percent', '.'], [0, 0, 3, 0, 0, 0, 0, 0, 0, 0, 0])\n",
            "(['The', 'Russians', ',', 'working', 'for', 'the', 'Aerostan', 'firm', 'in', 'the', 'Russian', 'republic', 'of', 'Tatarstan', ',', 'were', 'taken', 'hostage', 'after', 'a', 'Taleban', 'MiG-19', 'fighter', 'forced', 'their', 'cargo', 'plane', 'to', 'land', 'in', 'August', '1995', '.'], [0, 7, 0, 0, 0, 0, 3, 0, 0, 0, 7, 0, 0, 5, 0, 0, 0, 0, 0, 0, 7, 7, 0, 0, 0, 0, 0, 0, 0, 0, 0, 0, 0])\n",
            "(['BONN', '1996-08-22'], [5, 0])\n",
            "(['MGT', '/', 'UND', '5', 'BP', 'SELL', 'CONC', '5', 'BP', 'PRAECIP', '='], [0, 0, 0, 0, 0, 0, 0, 0, 0, 0, 0])\n",
            "(['Almost', 'all', 'German', 'car', 'manufacturers', 'posted', 'gains', 'in', 'registration', 'numbers', 'in', 'the', 'period', '.'], [0, 0, 7, 0, 0, 0, 0, 0, 0, 0, 0, 0, 0, 0])\n",
            "(['Cash', 'and', 'Cash', 'Equivalents', '2,386', '93'], [0, 0, 0, 0, 0, 0])\n",
            "(['AKRON', ',', 'Ohio', '1996-08-22'], [5, 0, 5, 0])\n",
            "(['However', ',', 'trade', 'will', 'likely', 'be', 'light', 'and', 'prices', 'could', 'drift', 'on', 'evening', 'up', 'ahead', 'of', 'the', 'report', '.'], [0, 0, 0, 0, 0, 0, 0, 0, 0, 0, 0, 0, 0, 0, 0, 0, 0, 0, 0])\n",
            "(['The', 'market', 'was', 'very', 'quiet', 'because', 'of', 'summer', 'holidays', ',', '\"', 'one', 'dealer', 'said', '.'], [0, 0, 0, 0, 0, 0, 0, 0, 0, 0, 0, 0, 0, 0, 0])\n",
            "(['PRESS', 'DIGEST', '-', 'Iraq', '-', 'Aug', '22', '.'], [0, 0, 0, 5, 0, 0, 0, 0])\n",
            "(['The', 'Bank', 'of', 'Finland', 'earlier', 'estimated', 'the', 'April', 'trade', 'surplus', 'at', '3.2', 'billion', 'markka', 'with', 'exports', 'projected', 'at', '14.5', 'billion', 'and', 'imports', 'at', '11.3', 'billion', '.'], [0, 3, 4, 4, 0, 0, 0, 0, 0, 0, 0, 0, 0, 0, 0, 0, 0, 0, 0, 0, 0, 0, 0, 0, 0, 0])\n",
            "(['1.', 'Pivotal', '100-30', '(', 'ridden', 'by', 'George', 'Duffield', ')'], [0, 1, 0, 0, 0, 0, 1, 2, 0])\n",
            "(['Colleen', 'Siegel'], [1, 2])\n",
            "(['UNDERLYING', 'GOVT', 'BOND', '7.0', 'PCT', 'SEPT', '2001'], [0, 0, 0, 0, 0, 0, 0])\n",
            "(['It', 'said', 'its', 'arms', 'purchases', 'were', 'for', 'defensive', 'purposes', '.'], [0, 0, 0, 0, 0, 0, 0, 0, 0, 0])\n",
            "(['LISTING', 'LONDON', 'DENOMS', '(', 'K', ')', '1-10-100', 'SALE', 'LIMITS', 'US', '/', 'UK', '/', 'JP', '/', 'FR'], [0, 5, 0, 0, 0, 0, 0, 0, 0, 5, 0, 5, 0, 5, 0, 5])\n",
            "(['GOLF', '-', 'SCORES', 'AT', 'WORLD', 'SERIES', 'OF', 'GOLF', '.'], [0, 0, 0, 0, 7, 8, 8, 8, 0])\n",
            "(['At', 'Trent', 'Bridge', ':', 'Nottinghamshire', '392-6', '(', 'G.', 'Archer', '143', 'not'], [0, 5, 6, 0, 3, 0, 0, 1, 2, 0, 0])\n",
            "(['EU', 'leaders', 'agreed', 'at', 'a', 'summit', 'in', 'June', 'to', 'a', 'progressive', 'lifting', 'of', 'the', 'ban', 'as', 'Britain', 'takes', 'parallel', 'measures', 'to', 'eradicate', 'the', 'disease', '.'], [3, 0, 0, 0, 0, 0, 0, 0, 0, 0, 0, 0, 0, 0, 0, 0, 5, 0, 0, 0, 0, 0, 0, 0, 0])\n",
            "(['TORONTO', '1996-08-21'], [5, 0])\n",
            "(['N.', 'Knight', 'b', 'Mushtaq', 'Ahmed', '17'], [1, 2, 0, 1, 2, 0])\n",
            "(['Operating', 'Income', '906', '962', '599', '515'], [0, 0, 0, 0, 0, 0])\n",
            "(['But', 'the', 'ex-manager', 'confessed', 'on', 'Thursday', 'to', 'being', '\"', 'sad', '\"', 'at', 'leaving', 'after', 'taking', 'Blackburn', 'from', 'the', 'second', 'division', 'to', 'the', 'premier', 'league', 'title', 'inside', 'three', 'and', 'a', 'half', 'years', '.'], [0, 0, 0, 0, 0, 0, 0, 0, 0, 0, 0, 0, 0, 0, 0, 3, 0, 0, 0, 0, 0, 0, 0, 0, 0, 0, 0, 0, 0, 0, 0, 0])\n",
            "(['BayerVB', 'sets', 'C$', '100', 'million', 'six-year', 'bond', '.'], [3, 0, 7, 0, 0, 0, 0, 0])\n",
            "(['\"', 'Until', 'this', 'is', 'cleared', 'up', 'by', 'the', 'European', 'Union', \"'s\", 'scientific', 'panels', '--', 'and', 'we', 'have', 'asked', 'this', 'to', 'be', 'done', 'as', 'quickly', 'as', 'possible', '--', '(', 'consumers', ')', 'should', 'if', 'at', 'all', 'possible', 'give', 'preference', 'to', 'sheepmeat', 'from', 'other', 'countries', ',', '\"', 'ministry', 'official', 'Werner', 'Zwingmann', 'told', 'ZDF', 'television', '.'], [0, 0, 0, 0, 0, 0, 0, 0, 3, 4, 0, 0, 0, 0, 0, 0, 0, 0, 0, 0, 0, 0, 0, 0, 0, 0, 0, 0, 0, 0, 0, 0, 0, 0, 0, 0, 0, 0, 0, 0, 0, 0, 0, 0, 0, 0, 1, 2, 0, 3, 0, 0])\n",
            "(['The', 'three-year-old', ',', 'partnered', 'by', 'veteran', 'George', 'Duffield', ',', 'snatched', 'a', 'short', 'head', 'verdict', 'in', 'the', 'last', 'stride', 'to', 'deny', 'Eveningperformance', '(', '16-1', ')', ',', 'trained', 'by', 'Henry', 'Candy', 'and', 'ridden', 'by', 'Chris', 'Rutter', '.'], [0, 0, 0, 0, 0, 0, 1, 2, 0, 0, 0, 0, 0, 0, 0, 0, 0, 0, 0, 0, 1, 0, 0, 0, 0, 0, 0, 1, 2, 0, 0, 0, 1, 2, 0])\n",
            "(['Bonn', 'has', 'led', 'efforts', 'to', 'ensure', 'consumer', 'protection', 'tops', 'the', 'list', 'of', 'priorities', 'in', 'dealing', 'with', 'the', 'mad', 'cow', 'crisis', ',', 'which', 'erupted', 'in', 'March', 'when', 'Britain', 'acknowledged', 'humans', 'could', 'contract', 'a', 'similar', 'illness', 'by', 'eating', 'contaminated', 'beef', '.'], [5, 0, 0, 0, 0, 0, 0, 0, 0, 0, 0, 0, 0, 0, 0, 0, 0, 0, 0, 0, 0, 0, 0, 0, 0, 0, 5, 0, 0, 0, 0, 0, 0, 0, 0, 0, 0, 0, 0])\n",
            "(['72', 'Clarence', 'Rose', ',', 'Loren', 'Roberts', ',', 'Fred', 'Funk', ',', 'Sven', 'Struver'], [0, 1, 2, 0, 1, 2, 0, 1, 2, 0, 1, 2])\n",
            "(['After', 'the', 'British', 'government', 'admitted', 'a', 'possible', 'link', 'between', 'mad', 'cow', 'disease', 'and', 'its', 'fatal', 'human', 'equivalent', ',', 'the', 'EU', 'imposed', 'a', 'worldwide', 'ban', 'on', 'British', 'beef', 'exports', '.'], [0, 0, 7, 0, 0, 0, 0, 0, 0, 0, 0, 0, 0, 0, 0, 0, 0, 0, 0, 3, 0, 0, 0, 0, 0, 7, 0, 0, 0])\n",
            "(['Scotland', 'manager', 'Craig', 'Brown', 'said', 'on', 'Thursday', ':', '\"', 'I', \"'ve\", 'watched', 'Duncan', 'Ferguson', 'in', 'action', 'twice', 'recently', 'and', 'he', \"'s\", 'bang', 'in', 'form', '.'], [5, 0, 1, 2, 0, 0, 0, 0, 0, 0, 0, 0, 1, 2, 0, 0, 0, 0, 0, 0, 0, 0, 0, 0, 0])\n",
            "(['Israeli-Syrian', 'peace', 'talks', 'have', 'been', 'deadlocked', 'over', 'the', 'Golan', 'since', '1991', 'despite', 'the', 'previous', 'government', \"'s\", 'willingness', 'to', 'make', 'Golan', 'concessions', '.'], [7, 0, 0, 0, 0, 0, 0, 0, 5, 0, 0, 0, 0, 0, 0, 0, 0, 0, 0, 5, 0, 0])\n",
            "(['Total', '(', 'for', 'six', 'wickets', ')', '278'], [0, 0, 0, 0, 0, 0, 0])\n",
            "(['Daniel', 'Nestor', '(', 'Canada', ')', 'beat', '1', '-', 'Thomas', 'Muster', '(', 'Austria', ')', '6-3', '7-5'], [1, 2, 0, 5, 0, 0, 0, 0, 1, 2, 0, 5, 0, 0, 0])\n",
            "(['6-3', '6-4'], [0, 0])\n",
            "(['79', 'Tom', 'Watson'], [0, 1, 2])\n",
            "(['Only', 'Seat', 'and', 'Porsche', 'had', 'fewer', 'registrations', 'in', 'July', '1996', 'compared', 'to', 'last', 'year', \"'s\", 'July', '.'], [0, 3, 0, 3, 0, 0, 0, 0, 0, 0, 0, 0, 0, 0, 0, 0, 0])\n",
            "(['AMT', 'C$', '100', 'MLN', 'COUPON', '6.625', 'MATURITY', '24.SEP.02'], [0, 7, 0, 0, 0, 0, 0, 0])\n",
            "(['Taleban', 'said', 'its', 'shipment', 'of', 'ammunition', 'from', 'Albania', 'was', 'evidence', 'of', 'Russian', 'military', 'support', 'for', 'Rabbani', \"'s\", 'government', '.'], [7, 0, 0, 0, 0, 0, 0, 5, 0, 0, 0, 7, 0, 0, 0, 1, 0, 0, 0])\n",
            "(['Kenny', 'Dalglish', 'spoke', 'on', 'Thursday', 'of', 'his', 'sadness', 'at', 'leaving', 'Blackburn', ',', 'the', 'club', 'he', 'led', 'to', 'the', 'English', 'premier', 'league', 'title', 'in', '1994-95', '.'], [1, 2, 0, 0, 0, 0, 0, 0, 0, 0, 3, 0, 0, 0, 0, 0, 0, 0, 7, 0, 0, 0, 0, 0, 0])\n",
            "(['Israel', 'on', 'Wednesday', 'sent', 'Syria', 'a', 'message', ',', 'via', 'Washington', ',', 'saying', 'it', 'was', 'committed', 'to', 'peace', 'and', 'wanted', 'to', 'open', 'negotiations', 'without', 'preconditions', '.'], [5, 0, 0, 0, 5, 0, 0, 0, 0, 5, 0, 0, 0, 0, 0, 0, 0, 0, 0, 0, 0, 0, 0, 0, 0])\n",
            "(['Pivotal', ',', 'a', 'Royal', 'Ascot', 'winner', 'in', 'June', ',', 'may', 'now', 'be', 'aimed', 'at', 'this', 'season', \"'s\", 'Abbaye', ',', 'Europe', \"'s\", 'top', 'sprint', 'race', '.'], [1, 0, 0, 1, 2, 0, 0, 0, 0, 0, 0, 0, 0, 0, 0, 0, 0, 7, 0, 5, 0, 0, 0, 0, 0])\n",
            "(['At', 'Leicester', ':', 'Leicestershire', '343-8', '(', 'P.', 'Simmons', '108', ',', 'P.', 'Nixon'], [0, 5, 0, 3, 0, 0, 1, 2, 0, 0, 1, 2])\n",
            "(['Bonn', 'has', 'led', 'efforts', 'to', 'protect', 'public', 'health', 'after', 'consumer', 'confidence', 'collapsed', 'in', 'March', 'after', 'a', 'British', 'report', 'suggested', 'humans', 'could', 'contract', 'an', 'illness', 'similar', 'to', 'mad', 'cow', 'disease', 'by', 'eating', 'contaminated', 'beef', '.'], [5, 0, 0, 0, 0, 0, 0, 0, 0, 0, 0, 0, 0, 0, 0, 0, 7, 0, 0, 0, 0, 0, 0, 0, 0, 0, 0, 0, 0, 0, 0, 0, 0, 0])\n",
            "(['Up', 'to', 'today', ',', 'we', 'have', 'no', 'knowledge', 'of', 'any', 'nurse', 'stranded', 'or', 'kept', 'in', 'Libya', 'without', 'her', 'will', ',', 'and', 'we', 'have', 'not', 'received', 'any', 'complaint', ',', '\"', 'the', 'Polish', 'embassy', \"'s\", 'charge', \"d'affaires\", 'in', 'Tripoli', ',', 'Tadeusz', 'Awdankiewicz', ',', 'told', 'Reuters', 'by', 'telephone', '.'], [0, 0, 0, 0, 0, 0, 0, 0, 0, 0, 0, 0, 0, 0, 0, 5, 0, 0, 0, 0, 0, 0, 0, 0, 0, 0, 0, 0, 0, 0, 7, 0, 0, 0, 0, 0, 5, 0, 1, 2, 0, 0, 3, 0, 0, 0])\n",
            "(['Both', 'Iran', 'and', 'Turkey', 'mount', 'air', 'and', 'land', 'strikes', 'at', 'targets', 'in', 'northern', 'Iraq', 'in', 'pursuit', 'of', 'their', 'own', 'Kurdish', 'rebels', '.'], [0, 5, 0, 5, 0, 0, 0, 0, 0, 0, 0, 0, 0, 5, 0, 0, 0, 0, 0, 7, 0, 0])\n",
            "(['BAGHDAD', '1996-08-22'], [5, 0])\n",
            "(['German', 'farm', 'ministry', 'tells', 'consumers', 'to', 'avoid', 'British', 'mutton', '.'], [7, 0, 0, 0, 0, 0, 0, 7, 0, 0])\n",
            "(['(', 'prefix', 'number', 'denotes', 'seeding', ')', ':'], [0, 0, 0, 0, 0, 0, 0])\n",
            "(['Scorers', ':'], [0, 0])\n",
            "(['A.', 'Stewart', 'b', 'Mushtaq', 'Ahmed', '44'], [1, 2, 0, 1, 2, 0])\n",
            "(['are', 'full', 'of', 'expressions', 'and', 'declarations', 'that', 'must', 'be', 'worrying', '...'], [0, 0, 0, 0, 0, 0, 0, 0, 0, 0, 0])\n",
            "(['million', 'NEC', 'World', 'Series', 'of', 'Golf', 'after', 'the', 'first', 'round'], [0, 7, 8, 8, 8, 8, 0, 0, 0, 0])\n",
            "(['HORSE', 'RACING', '-', 'PIVOTAL', 'ENDS', '25-YEAR', 'WAIT', 'FOR', 'TRAINER', 'PRESCOTT', '.'], [0, 0, 0, 1, 0, 0, 0, 0, 0, 1, 0])\n",
            "(['The', 'media', '...'], [0, 0, 0])\n",
            "(['$', '450,000', 'Toshiba', 'Classic', 'tennis', 'tournament', 'on', 'Wednesday'], [0, 0, 7, 8, 0, 0, 0, 0])\n",
            "(['52', ';', 'A.', 'Cowan', '5-68', ')', '.'], [0, 0, 1, 2, 0, 0, 0])\n",
            "(['Reuters', 'has', 'not', 'verified', 'these', 'stories', 'and', 'does', 'not', 'vouch', 'for', 'their', 'accuracy', '.'], [3, 0, 0, 0, 0, 0, 0, 0, 0, 0, 0, 0, 0, 0])\n",
            "(['Attendance', ':', '8,000'], [0, 0, 0])\n",
            "(['Mark', 'Prescott', 'at', 'Newmarket', '.'], [1, 2, 0, 5, 0])\n",
            "(['\"', 'The', 'message', 'that', 'we', 'sent', 'to', '(', 'Syrian', 'President', 'Hafez', 'al-', ')', 'Assad', 'is', 'that', 'Israel', 'is', 'ready', 'at', 'any', 'time', 'without', 'preconditions', 'to', 'enter', 'peace', 'negotiations', ',', '\"', 'Israeli', 'Foreign', 'Minister', 'David', 'Levy', 'told', 'Israel', 'Radio', 'in', 'an', 'interview', '.'], [0, 0, 0, 0, 0, 0, 0, 0, 7, 0, 1, 2, 0, 1, 0, 0, 5, 0, 0, 0, 0, 0, 0, 0, 0, 0, 0, 0, 0, 0, 7, 0, 0, 1, 2, 0, 3, 4, 0, 0, 0, 0])\n",
            "(['SOCCER', '-', 'DALGLISH', 'SAD', 'OVER', 'BLACKBURN', 'PARTING', '.'], [0, 0, 1, 0, 0, 3, 0, 0])\n",
            "(['BORROWER', 'VENANTIUS', 'AB', '(', 'SWEDISH', 'NATIONAL', 'MORTGAGE', 'AGENCY', ')'], [0, 3, 4, 0, 7, 0, 0, 0, 0])\n",
            "(['Somerset', '236-4', '(', 'M.', 'Lathwell', '85', ')', '.'], [3, 0, 0, 1, 2, 0, 0, 0])\n",
            "(['NEG', 'PLG', 'YES', 'CRS', 'DEFLT', 'NO', 'FORCE', 'MAJ', 'IPMA', '2'], [0, 0, 0, 0, 0, 0, 0, 0, 0, 0])\n",
            "(['Essex', '72-0', '.'], [3, 0, 0])\n",
            "(['At', 'Colchester', ':', 'Gloucestershire', '280', '(', 'J.', 'Russell', '63', ',', 'A.', 'Symonds'], [0, 5, 0, 3, 0, 0, 1, 2, 0, 0, 1, 2])\n",
            "(['TUNIS', '1996-08-22'], [5, 0])\n",
            "(['-', 'A', 'shipload', 'of', '12', 'tonnes', 'of', 'rice', 'arrives', 'in', 'Umm', 'Qasr', 'port', 'in', 'the', 'Gulf', '.'], [0, 0, 0, 0, 0, 0, 0, 0, 0, 0, 5, 6, 0, 0, 0, 5, 0])\n",
            "(['GREEK', 'SOCIALISTS', 'GIVE', 'GREEN', 'LIGHT', 'TO', 'PM', 'FOR', 'ELECTIONS', '.'], [7, 0, 0, 0, 0, 0, 0, 0, 0, 0])\n",
            "(['It', 'has', 'since', 'been', 'silent', 'on', 'the', 'issue', '.'], [0, 0, 0, 0, 0, 0, 0, 0, 0])\n",
            "(['Israel', 'approves', 'Arafat', \"'s\", 'flight', 'to', 'West', 'Bank', '.'], [5, 0, 1, 0, 0, 0, 5, 6, 0])\n",
            "(['Imports', '10,663', '10,725', '43,430', '40,989'], [0, 0, 0, 0, 0])\n",
            "(['LONDON', '1996-08-22'], [5, 0])\n",
            "(['MGT', '/', 'UND', '0.275', 'SELL', 'CONC', '1.60', 'PRAECIP', '='], [0, 0, 0, 0, 0, 0, 0, 0, 0])\n",
            "(['1996-08-22'], [0])\n",
            "(['China', 'says', 'time', 'right', 'for', 'Taiwan', 'talks', '.'], [5, 0, 0, 0, 0, 5, 0, 0])\n",
            "(['-', 'Parliament', 'Speaker', 'Berri', ':', 'Israel', 'is', 'preparing', 'for', 'war', 'against', 'Syria', 'and', 'Lebanon', '.'], [0, 0, 0, 1, 0, 5, 0, 0, 0, 0, 0, 5, 0, 5, 0])\n",
            "(['Karol', 'Kucera', '(', 'Slovakia', ')', 'beat', 'Hicham', 'Arazi', '(', 'Morocco', ')', '7-6', '(', '7-4', ')'], [1, 2, 0, 5, 0, 0, 1, 2, 0, 5, 0, 0, 0, 0, 0])\n",
            "(['Firsy', 'day'], [0, 0])\n",
            "(['Buyers', 'also', 'snapped', 'up', '16', 'other', 'items', 'that', 'were', 'put', 'up', 'for', 'auction', 'by', 'Hendrix', \"'s\", 'former', 'girlfriend', 'Kathy', 'Etchingham', ',', 'who', 'lived', 'with', 'him', 'from', '1966', 'to', '1969', '.'], [0, 0, 0, 0, 0, 0, 0, 0, 0, 0, 0, 0, 0, 0, 1, 0, 0, 0, 1, 2, 0, 0, 0, 0, 0, 0, 0, 0, 0, 0])\n",
            "(['THAWRA'], [3])\n",
            "(['German', 'July', 'car', 'registrations', 'up', '14.2', 'pct', 'yr', '/', 'yr', '.'], [7, 0, 0, 0, 0, 0, 0, 0, 0, 0, 0])\n",
            "(['\"', 'We', 'expect', 'from', 'Syria', ',', 'if', 'its', 'face', 'is', 'to', 'peace', ',', 'that', 'it', 'will', 'answer', 'Israel', \"'s\", 'message', 'to', 'enter', 'peace', 'negotiations', 'because', 'that', 'is', 'our', 'goal', ',', '\"', 'he', 'said', '.', '\"'], [0, 0, 0, 0, 5, 0, 0, 0, 0, 0, 0, 0, 0, 0, 0, 0, 0, 5, 0, 0, 0, 0, 0, 0, 0, 0, 0, 0, 0, 0, 0, 0, 0, 0, 0])\n",
            "(['The', 'question', 'is', 'being', 'studied', 'separately', 'by', 'two', 'EU', 'scientific', 'committees', '.'], [0, 0, 0, 0, 0, 0, 0, 0, 3, 0, 0, 0])\n",
            "(['Only', 'France', 'and', 'Britain', 'backed', 'Fischler', \"'s\", 'proposal', '.'], [0, 5, 0, 5, 0, 1, 0, 0, 0])\n",
            "(['SOCCER', '-', 'FERGUSON', 'BACK', 'IN', 'SCOTTISH', 'SQUAD', 'AFTER', '20', 'MONTHS', '.'], [0, 0, 1, 0, 0, 7, 0, 0, 0, 0, 0])\n",
            "(['Peter', 'Blackburn'], [1, 2])\n",
            "(['\"', 'President', 'Saddam', 'Hussein', 'stressed', 'during', 'the', 'meeting', 'Iraq', \"'s\", 'keenness', 'to', 'maintain', 'friendship', 'and', 'cooperation', 'with', 'Russia', ',', '\"', 'the', 'papers', 'said', '.'], [0, 0, 1, 2, 0, 0, 0, 0, 5, 0, 0, 0, 0, 0, 0, 0, 0, 5, 0, 0, 0, 0, 0, 0])\n",
            "(['3.', 'Hever', 'Golf', 'Rose', '11-4', '(', 'Jason', 'Weaver', ')'], [0, 1, 2, 2, 0, 0, 1, 2, 0])\n",
            "(['GOV', 'LAW', 'GERMAN', 'HOME', 'CTRY', '=', 'TAX', 'PROVS', 'STANDARD'], [0, 0, 7, 0, 0, 0, 0, 0, 0])\n",
            "(['Rabinovich', 'is', 'winding', 'up', 'his', 'term', 'as', 'ambassador', '.'], [1, 0, 0, 0, 0, 0, 0, 0, 0])\n",
            "(['NEG', 'PLG', 'NO', 'CRS', 'DEFLT', 'NO', 'FORCE', 'MAJ', '='], [0, 0, 0, 0, 0, 0, 0, 0, 0])\n",
            "(['SOCCER', '-', 'GLORIA', 'BISTRITA', 'BEAT', '2-1', 'F.C.', 'VALLETTA', '.'], [0, 0, 3, 4, 0, 0, 3, 4, 0])\n",
            "(['Poland', \"'s\", 'labour', 'ministry', 'said', 'this', 'week', 'it', 'would', 'send', 'a', 'team', 'to', 'Libya', 'to', 'investigate', ',', 'but', 'Awdankiewicz', 'said', 'the', 'probe', 'was', 'prompted', 'by', 'some', 'nurses', 'complaining', 'about', 'their', 'work', 'conditions', 'such', 'as', 'non-payment', 'of', 'their', 'salaries', '.'], [5, 0, 0, 0, 0, 0, 0, 0, 0, 0, 0, 0, 0, 5, 0, 0, 0, 0, 1, 0, 0, 0, 0, 0, 0, 0, 0, 0, 0, 0, 0, 0, 0, 0, 0, 0, 0, 0, 0])\n",
            "(['--', 'Africans', 'seeking', 'to', 'renew', 'or', 'obtain', 'work', 'and', 'residence', 'rights', 'say', 'Prime', 'Minister', 'Alain', 'Juppe', \"'s\", 'proposals', 'are', 'insufficient', 'as', 'hunger', 'strike', 'enters', '49th', 'day', 'in', 'Paris', 'church', 'and', 'Wednesday', 'rally', 'attracts', '8,000', 'sympathisers', '.'], [0, 7, 0, 0, 0, 0, 0, 0, 0, 0, 0, 0, 0, 0, 1, 2, 0, 0, 0, 0, 0, 0, 0, 0, 0, 0, 0, 5, 0, 0, 0, 0, 0, 0, 0, 0])\n",
            "(['Venantius', 'sets', '$', '300', 'million', 'January', '1999', 'FRN', '.'], [3, 0, 0, 0, 0, 0, 0, 0, 0])\n",
            "(['Sheep', 'have', 'long', 'been', 'known', 'to', 'contract', 'scrapie', ',', 'a', 'brain-wasting', 'disease', 'similar', 'to', 'BSE', 'which', 'is', 'believed', 'to', 'have', 'been', 'transferred', 'to', 'cattle', 'through', 'feed', 'containing', 'animal', 'waste', '.'], [0, 0, 0, 0, 0, 0, 0, 0, 0, 0, 0, 0, 0, 0, 7, 0, 0, 0, 0, 0, 0, 0, 0, 0, 0, 0, 0, 0, 0, 0])\n",
            "(['One-month', 'interbank', 'deposits', 'were', 'at', '5-1/2', ',', '3/8', 'percent', ',', 'three', 'months', 'were', '5-5/8', ',', '1/2', 'percent', 'and', 'six', 'months', 'were', '5-3/4', ',', '5/8', 'percent', '.'], [7, 0, 0, 0, 0, 0, 0, 0, 0, 0, 0, 0, 0, 0, 0, 0, 0, 0, 0, 0, 0, 0, 0, 0, 0, 0])\n",
            "(['Seat', 'posted', '3,420', 'registrations', 'compared', 'with', '5522', 'registrations', 'in', 'July', 'a', 'year', 'earlier', '.'], [3, 0, 0, 0, 0, 0, 0, 0, 0, 0, 0, 0, 0, 0])\n",
            "(['NOTES', 'S', 'SHORT', 'FIRST', 'COUPON'], [0, 0, 0, 0, 0])\n",
            "(['The', 'Finance', 'Ministry', 'raised', 'the', 'price', 'for', 'tap', 'sales', 'of', 'the', 'Dutch', 'government', \"'s\", 'new', '5.75', 'percent', 'bond', 'due', 'September', '2002', 'to', '99.95', 'from', '99.90', '.'], [0, 3, 4, 0, 0, 0, 0, 0, 0, 0, 0, 7, 0, 0, 0, 0, 0, 0, 0, 0, 0, 0, 0, 0, 0, 0])\n",
            "(['Khan', ',', 'Mushtaq', 'Ahmed', ',', 'Waqar', 'Younis', ',', 'Mohammad', 'Akam'], [1, 0, 1, 2, 0, 1, 2, 0, 1, 2])\n",
            "(['Palestinian', 'officials', 'said', 'the', 'Israeli', 'government', 'had', 'barred', 'Arafat', 'from', 'overflying', 'Israel', 'in', 'a', 'Palestinian', 'helicopter', 'to', 'the', 'West', 'Bank', 'in', 'an', 'attempt', 'to', 'bar', 'the', 'meeting', 'with', 'Peres', '.'], [7, 0, 0, 0, 7, 0, 0, 0, 1, 0, 0, 5, 0, 0, 7, 0, 0, 0, 5, 6, 0, 0, 0, 0, 0, 0, 0, 0, 1, 0])\n",
            "(['HELSINKI', '1996-08-22'], [5, 0])\n",
            "(['PRESS', 'DIGEST', '-', 'Lebanon', '-', 'Aug', '22', '.'], [0, 0, 0, 5, 0, 0, 0, 0])\n",
            "(['Zhirinovsky', 'said', 'on', 'Tuesday', 'he', 'would', 'press', 'the', 'Russian', 'government', 'to', 'help', 'end', 'U.N.', 'trade', 'sanctions', 'on', 'Iraq', 'and', 'blamed', 'Moscow', 'for', 'delaying', 'establishment', 'of', 'good', 'ties', 'with', 'Baghdad', '.'], [1, 0, 0, 0, 0, 0, 0, 0, 7, 0, 0, 0, 0, 3, 0, 0, 0, 5, 0, 0, 5, 0, 0, 0, 0, 0, 0, 0, 5, 0])\n",
            "(['Israeli', 'Prime', 'Minister', 'Benjamin', 'Netanyahu', 'has', 'accused', 'opposition', 'leader', 'Peres', ',', 'who', 'he', 'defeated', 'in', 'May', 'elections', ',', 'of', 'trying', 'to', 'undermine', 'his', 'Likud', 'government', \"'s\", 'authority', 'to', 'conduct', 'peace', 'talks', '.'], [7, 0, 0, 1, 2, 0, 0, 0, 0, 1, 0, 0, 0, 0, 0, 0, 0, 0, 0, 0, 0, 0, 0, 3, 0, 0, 0, 0, 0, 0, 0, 0])\n",
            "(['HORSE', 'RACING', '-', 'NUNTHORPE', 'STAKES', 'RESULTS', '.'], [0, 0, 0, 0, 0, 0, 0])\n",
            "(['number', 'denotes', 'seeding', ')', ':'], [0, 0, 0, 0, 0])\n",
            "(['Gateway', 'Data', 'Sciences', 'Q2', 'net', 'rises', '.'], [3, 4, 4, 0, 0, 0, 0])\n",
            "(['Volkswagen', 'AG', 'won', '77,719', 'registrations', ',', 'slightly', 'more', 'than', 'a', 'quarter', 'of', 'the', 'total', '.'], [3, 4, 0, 0, 0, 0, 0, 0, 0, 0, 0, 0, 0, 0, 0])\n",
            "(['FULL', 'FEES', '1.875', 'REOFFER', '99.32', 'SPREAD', '+20', 'BP'], [0, 0, 0, 0, 0, 0, 0, 0])\n",
            "(['Balance', 'Sheet', 'Data', ':'], [0, 0, 0, 0])\n",
            "(['At', 'Northampton', ':', 'Sussex', '368-7', '(', 'N.', 'Lenham', '145', ',', 'V.', 'Drakes', '59', 'not'], [0, 5, 0, 3, 0, 0, 1, 2, 0, 0, 1, 2, 0, 0])\n",
            "(['NOTES', 'BAYERISCHE', 'VEREINSBANK', 'IS', 'JOINT', 'LEAD', 'MANAGER'], [0, 3, 4, 0, 0, 0, 0])\n",
            "(['\"', 'There', 'were', 'no', 'changes', 'in', 'Saudi', 'riyal', 'rates', '.'], [0, 0, 0, 0, 0, 0, 7, 0, 0, 0])\n",
            "(['These', 'are', 'the', 'leading', 'stories', 'in', 'the', 'Beirut', 'press', 'on', 'Thursday', '.'], [0, 0, 0, 0, 0, 0, 0, 5, 0, 0, 0, 0])\n",
            "(['Working', 'Capital', '$', '5,755', '(', '$', '881', ')'], [0, 0, 0, 0, 0, 0, 0, 0])\n",
            "(['J.', 'Crawley', 'not', 'out', '94'], [1, 2, 0, 0, 0])\n",
            "(['RESEARCH', 'ALERT', '-', 'Lehman', 'starts', 'SNET', '.'], [0, 0, 0, 3, 0, 3, 0])\n",
            "(['\"', 'It', 'appears', 'to', 'me', 'the', 'Syrian', 'priority', 'is', 'still', 'to', 'negotiate', '.'], [0, 0, 0, 0, 0, 0, 7, 0, 0, 0, 0, 0, 0])\n",
            "(['PUK', 'and', 'Iraq', \"'s\", 'Kurdistan', 'Democratic', 'Party', '(', 'KDP', ')', 'the', 'two', 'main', 'Iraqi', 'Kurdish', 'factions', ',', 'have', 'had', 'northern', 'Iraq', 'under', 'their', 'control', 'since', 'Iraqi', 'forces', 'were', 'ousted', 'from', 'Kuwait', 'in', 'the', '1991', 'Gulf', 'War', '.'], [3, 0, 5, 0, 3, 4, 4, 0, 3, 0, 0, 0, 0, 7, 8, 0, 0, 0, 0, 0, 5, 0, 0, 0, 0, 7, 0, 0, 0, 0, 5, 0, 0, 0, 7, 8, 0])\n",
            "(['8', '-', 'Nathalie', 'Tauziat', '(', 'France', ')', 'beat', 'Shi-Ting', 'Wang', '(', 'Taiwan', ')', '6-4'], [0, 0, 1, 2, 0, 5, 0, 0, 1, 2, 0, 5, 0, 0])\n",
            "(['Petr', 'Korda', '(', 'Czech', 'Republic', ')', 'beat', '12', '-', 'Francisco', 'Clavet', '(', 'Spain', ')'], [1, 2, 0, 5, 6, 0, 0, 0, 0, 1, 2, 0, 5, 0])\n",
            "(['1', '-', 'Michael', 'Chang', '(', 'U.S.', ')', 'beat', 'Sergi', 'Bruguera', '(', 'Spain', ')', '6-3', '6-2'], [0, 0, 1, 2, 0, 5, 0, 0, 1, 2, 0, 5, 0, 0, 0])\n",
            "(['68', 'Steve', 'Stricker'], [0, 1, 2])\n",
            "(['Thursday', 'at', 'the', '7,149', 'yard', ',', 'par', '70', 'Firestone', 'C.C', 'course'], [0, 0, 0, 0, 0, 0, 0, 0, 5, 6, 0])\n",
            "(['--', 'London', 'Newsroom', '+44', '171', '542', '7658'], [0, 3, 4, 0, 0, 0, 0])\n",
            "(['Prime', 'Minister', 'Costas', 'Simitis', 'is', 'going', 'to', 'make', 'an', 'official', 'announcement', 'after', 'a', 'cabinet', 'meeting', 'later', 'on', 'Thursday', ',', 'said', 'Skandalidis', '.'], [0, 0, 1, 2, 0, 0, 0, 0, 0, 0, 0, 0, 0, 0, 0, 0, 0, 0, 0, 0, 1, 0])\n",
            "(['Early', 'calls', 'on', 'CME', 'live', 'and', 'feeder', 'cattle', 'futures', 'ranged', 'from', '0.200', 'cent', 'higher', 'to', '0.100', 'lower', ',', 'livestock', 'analysts', 'said', '.'], [0, 0, 0, 3, 0, 0, 0, 0, 0, 0, 0, 0, 0, 0, 0, 0, 0, 0, 0, 0, 0, 0])\n",
            "(['The', 'European', 'Commission', 'said', 'on', 'Thursday', 'it', 'disagreed', 'with', 'German', 'advice', 'to', 'consumers', 'to', 'shun', 'British', 'lamb', 'until', 'scientists', 'determine', 'whether', 'mad', 'cow', 'disease', 'can', 'be', 'transmitted', 'to', 'sheep', '.'], [0, 3, 4, 0, 0, 0, 0, 0, 0, 7, 0, 0, 0, 0, 0, 7, 0, 0, 0, 0, 0, 0, 0, 0, 0, 0, 0, 0, 0, 0])\n",
            "(['Inzamam-ul-Haq', ',', 'Salim', 'Malik', ',', 'Asif', 'Mujtaba', ',', 'Wasim', 'Akram', ',', 'Moin'], [1, 0, 1, 2, 0, 1, 2, 0, 1, 2, 0, 1])\n",
            "(['AS-SAFIR'], [3])\n",
            "(['He', 'said', 'a', 'proposal', 'last', 'month', 'by', 'EU', 'Farm', 'Commissioner', 'Franz', 'Fischler', 'to', 'ban', 'sheep', 'brains', ',', 'spleens', 'and', 'spinal', 'cords', 'from', 'the', 'human', 'and', 'animal', 'food', 'chains', 'was', 'a', 'highly', 'specific', 'and', 'precautionary', 'move', 'to', 'protect', 'human', 'health', '.'], [0, 0, 0, 0, 0, 0, 0, 3, 0, 0, 1, 2, 0, 0, 0, 0, 0, 0, 0, 0, 0, 0, 0, 0, 0, 0, 0, 0, 0, 0, 0, 0, 0, 0, 0, 0, 0, 0, 0, 0])\n",
            "(['LONDON', '1996-08-22'], [5, 0])\n",
            "(['The', 'value', 'of', 'exports', 'fell', 'one', 'percent', 'year-on-year', 'in', 'April', 'and', 'the', 'value', 'of', 'imports', 'fell', 'two', 'percent', ',', 'NCB', 'said', '.'], [0, 0, 0, 0, 0, 0, 0, 0, 0, 0, 0, 0, 0, 0, 0, 0, 0, 0, 0, 3, 0, 0])\n",
            "(['IRAQ'], [5])\n",
            "(['Cash', 'markets', 'are', 'also', 'expected', 'to', 'be', 'quiet', 'after', 'the', 'record', 'amount', 'of', 'feedlot', 'cattle', 'traded', 'this', 'week', ',', 'they', 'said', '.'], [0, 0, 0, 0, 0, 0, 0, 0, 0, 0, 0, 0, 0, 0, 0, 0, 0, 0, 0, 0, 0, 0])\n",
            "(['FRANKFURT', '1996-08-22'], [5, 0])\n",
            "(['Berry', 'said', ':', '\"', 'I`m', 'disappointed', 'but', 'I', 'do', \"n't\", 'feel', 'suicidal', '.'], [1, 0, 0, 0, 0, 0, 0, 0, 0, 0, 0, 0, 0])\n",
            "(['English', 'County', 'Championship', 'cricket', 'matches', 'on', 'Thursday', ':'], [7, 7, 8, 0, 0, 0, 0, 0])\n",
            "(['JERUSALEM', '1996-08-22'], [5, 0])\n",
            "(['Second', 'round'], [0, 0])\n",
            "(['--', 'The', 'analyst', 'also', 'set', 'an', 'earnings', 'estimate', 'for', 'the', '1997', 'year', ',', 'but', 'the', 'figure', 'was', 'not', 'immediately', 'available', '.'], [0, 0, 0, 0, 0, 0, 0, 0, 0, 0, 0, 0, 0, 0, 0, 0, 0, 0, 0, 0, 0])\n",
            "(['AL-ANWAR'], [3])\n",
            "(['\"', 'We', 'do', \"n't\", 'support', 'any', 'such', 'recommendation', 'because', 'we', 'do', \"n't\", 'see', 'any', 'grounds', 'for', 'it', ',', '\"', 'the', 'Commission', \"'s\", 'chief', 'spokesman', 'Nikolaus', 'van', 'der', 'Pas', 'told', 'a', 'news', 'briefing', '.'], [0, 0, 0, 0, 0, 0, 0, 0, 0, 0, 0, 0, 0, 0, 0, 0, 0, 0, 0, 0, 3, 0, 0, 0, 1, 2, 2, 2, 0, 0, 0, 0, 0])\n",
            "(['The', 'ministry', 'had', 'raised', '2.3', 'billion', 'guilders', 'from', 'sales', 'of', 'the', 'new', 'bond', 'by', 'the', 'close', 'of', 'trade', 'on', 'Wednesday', '.'], [0, 0, 0, 0, 0, 0, 0, 0, 0, 0, 0, 0, 0, 0, 0, 0, 0, 0, 0, 0, 0])\n",
            "(['He', 'will', 'be', 'replaced', 'by', 'Eliahu', 'Ben-Elissar', ',', 'a', 'former', 'Israeli', 'envoy', 'to', 'Egypt', 'and', 'right-wing', 'Likud', 'party', 'politician', '.'], [0, 0, 0, 0, 0, 1, 2, 0, 0, 0, 7, 0, 0, 5, 0, 0, 3, 0, 0, 0])\n",
            "(['It', 'gave', 'no', 'source', 'for', 'the', 'report', '.'], [0, 0, 0, 0, 0, 0, 0, 0])\n",
            "(['73', 'D.A.', 'Weibring', ',', 'Brad', 'Bryant', ',', 'Craig', 'Parry', '(', 'Australia', ')', ','], [0, 1, 2, 0, 1, 2, 0, 1, 2, 0, 5, 0, 0])\n",
            "(['\"', 'Now', 'is', 'the', 'time', 'for', 'the', 'two', 'sides', 'to', 'engage', 'in', 'political', 'talks', '...'], [0, 0, 0, 0, 0, 0, 0, 0, 0, 0, 0, 0, 0, 0, 0])\n",
            "(['77', 'Wayne', 'Westner', '(', 'South', 'Africa', ')', ',', 'Steve', 'Schneiter'], [0, 1, 2, 0, 5, 6, 0, 0, 1, 2])\n",
            "(['They', 'included', 'a', 'black', 'lacquer', 'and', 'mother', 'of', 'pearl', 'inlaid', 'box', 'used', 'by', 'Hendrix', 'to', 'store', 'his', 'drugs', ',', 'which', 'an', 'anonymous', 'Australian', 'purchaser', 'bought', 'for', '5,060', 'pounds', '(', '$', '7,845', ')', '.'], [0, 0, 0, 0, 0, 0, 0, 0, 0, 0, 0, 0, 0, 1, 0, 0, 0, 0, 0, 0, 0, 0, 7, 0, 0, 0, 0, 0, 0, 0, 0, 0, 0])\n",
            "(['Kindercare', 'says', 'debt', 'buy', 'to', 'hit', 'Q1', 'results', '.'], [0, 0, 0, 0, 0, 0, 0, 0, 0])\n",
            "(['Numerous', 'diplomatic', 'attempts', 'to', 'free', 'the', 'seven', 'failed', '.'], [0, 0, 0, 0, 0, 0, 0, 0, 0])\n",
            "(['Rare', 'Hendrix', 'song', 'draft', 'sells', 'for', 'almost', '$', '17,000', '.'], [0, 1, 0, 0, 0, 0, 0, 0, 0, 0])\n",
            "(['Results', 'from', 'the'], [0, 0, 0])\n",
            "(['Tension', 'has', 'mounted', 'since', 'Israeli', 'Prime', 'Minister', 'Benjamin', 'Netanyahu', 'took', 'office', 'in', 'June', 'vowing', 'to', 'retain', 'the', 'Golan', 'Heights', 'Israel', 'captured', 'from', 'Syria', 'in', 'the', '1967', 'Middle', 'East', 'war', '.'], [0, 0, 0, 0, 7, 0, 0, 1, 2, 0, 0, 0, 0, 0, 0, 0, 0, 5, 6, 5, 0, 0, 5, 0, 0, 0, 5, 6, 0, 0])\n",
            "(['Ally', 'McCoist', 'is', 'also', 'in', 'great', 'scoring', 'form', 'at', 'the', 'moment', '.', '\"'], [1, 2, 0, 0, 0, 0, 0, 0, 0, 0, 0, 0, 0])\n",
            "(['--', 'Southern', 'New', 'England', 'closed', 'at', '38-1/2', 'Wednesday', '.'], [0, 3, 4, 4, 0, 0, 0, 0, 0])\n",
            "(['British', 'farmers', 'denied', 'on', 'Thursday', 'there', 'was', 'any', 'danger', 'to', 'human', 'health', 'from', 'their', 'sheep', ',', 'but', 'expressed', 'concern', 'that', 'German', 'government', 'advice', 'to', 'consumers', 'to', 'avoid', 'British', 'lamb', 'might', 'influence', 'consumers', 'across', 'Europe', '.'], [7, 0, 0, 0, 0, 0, 0, 0, 0, 0, 0, 0, 0, 0, 0, 0, 0, 0, 0, 0, 7, 0, 0, 0, 0, 0, 0, 7, 0, 0, 0, 0, 0, 5, 0])\n",
            "(['Close', 'of', 'play', 'scores', 'in', 'four-day'], [0, 0, 0, 0, 0, 0])\n",
            "(['Abu', 'Rdainah', 'said', 'Arafat', 'had', 'decided', 'against', 'flying', 'to', 'the', 'West', 'Bank', 'on', 'Thursday', ',', 'after', 'Israel', 'lifted', 'the', 'ban', ',', 'because', 'he', 'had', 'a', 'busy', 'schedule', 'in', 'Gaza', 'and', 'would', 'not', 'be', 'free', 'until', 'Monday', '.'], [1, 2, 0, 1, 0, 0, 0, 0, 0, 0, 5, 6, 0, 0, 0, 0, 5, 0, 0, 0, 0, 0, 0, 0, 0, 0, 0, 0, 5, 0, 0, 0, 0, 0, 0, 0, 0])\n",
            "(['7-5'], [0])\n",
            "(['\"', 'The', 'voices', 'coming', 'out', 'of', 'Damascus', 'are', 'bad', ',', 'not', 'good', '.'], [0, 0, 0, 0, 0, 0, 5, 0, 0, 0, 0, 0, 0])\n",
            "(['-', 'Iraq', \"'s\", 'President', 'Saddam', 'Hussein', 'meets', 'with', 'chairman', 'of', 'the', 'Russian', 'liberal', 'democratic', 'party', 'Vladimir', 'Zhirinovsky', '.'], [0, 5, 0, 0, 1, 2, 0, 0, 0, 0, 0, 7, 0, 0, 0, 1, 2, 0])\n",
            "(['--', 'Dimitris', 'Kontogiannis', ',', 'Athens', 'Newsroom', '+301', '3311812-4'], [0, 1, 2, 0, 3, 4, 0, 0])\n",
            "(['--', 'Oslo', 'newsroom', '+47', '22', '42', '50', '41'], [0, 5, 0, 0, 0, 0, 0, 0])\n",
            "(['Dutch', 'state', 'raises', 'tap', 'sale', 'price', 'to', '99.95', '.'], [7, 0, 0, 0, 0, 0, 0, 0, 0])\n",
            "(['Trade', 'balance', '(', 'million', 'markka', ')', ':'], [0, 0, 0, 0, 0, 0, 0])\n",
            "(['China', 'says', 'Taiwan', 'spoils', 'atmosphere', 'for', 'talks', '.'], [5, 0, 5, 0, 0, 0, 0, 0])\n",
            "(['Israel', 'plays', 'down', 'fears', 'of', 'war', 'with', 'Syria', '.'], [5, 0, 0, 0, 0, 0, 0, 5, 0])\n",
            "(['Kabul', 'is', 'controlled', 'by', 'President', 'Burhanuddin', 'Rabbani', \"'s\", 'government', ',', 'which', 'Taleban', 'is', 'fighting', 'to', 'overthrow', '.'], [5, 0, 0, 0, 0, 1, 2, 0, 0, 0, 0, 7, 0, 0, 0, 0, 0])\n",
            "(['China', 'on', 'Thursday', 'accused', 'Taipei', 'of', 'spoiling', 'the', 'atmosphere', 'for', 'a', 'resumption', 'of', 'talks', 'across', 'the', 'Taiwan', 'Strait', 'with', 'a', 'visit', 'to', 'Ukraine', 'by', 'Taiwanese', 'Vice', 'President', 'Lien', 'Chan', 'this', 'week', 'that', 'infuriated', 'Beijing', '.'], [5, 0, 0, 0, 5, 0, 0, 0, 0, 0, 0, 0, 0, 0, 0, 0, 5, 6, 0, 0, 0, 0, 5, 0, 7, 0, 0, 1, 2, 0, 0, 0, 0, 5, 0])\n",
            "(['SOCCER', '-', 'KEANE', 'SIGNS', 'FOUR-YEAR', 'CONTRACT', 'WITH', 'MANCHESTER', 'UNITED', '.'], [0, 0, 1, 0, 0, 0, 0, 5, 6, 0])\n",
            "(['The', 'three', 'main', 'lists', 'have', 'been', 'prepared', '.'], [0, 0, 0, 0, 0, 0, 0, 0])\n",
            "(['It', 'said', 'about', '100', 'Iraqi', 'Kurds', 'were', 'killed', 'or', 'wounded', 'in', 'the', 'attack', '.'], [0, 0, 0, 0, 7, 8, 0, 0, 0, 0, 0, 0, 0, 0])\n",
            "(['The', 'Russians', ',', 'who', 'said', 'they', 'overpowered', 'the', 'guards', '--', 'two', 'armed', 'with', 'Kalashnikov', 'automatic', 'rifles', '--', 'while', 'doing', 'regular', 'maintenance', 'work', 'on', 'their', 'Ilyushin', '76', 'cargo', 'plane', 'last', 'Friday', ',', 'left', 'the', 'UAE', 'capital', 'Abu', 'Dhabi', 'for', 'home', 'on', 'Sunday', '.'], [0, 7, 0, 0, 0, 0, 0, 0, 0, 0, 0, 0, 0, 7, 0, 0, 0, 0, 0, 0, 0, 0, 0, 0, 7, 8, 0, 0, 0, 0, 0, 0, 0, 5, 0, 5, 6, 0, 0, 0, 0, 0])\n",
            "(['Six', 'Months', 'Ended', 'Quarter', 'Ended'], [0, 0, 0, 0, 0])\n",
            "(['Maruyama', '(', 'Japan', ')'], [1, 0, 5, 0])\n",
            "(['EU', 'Farm', 'Commissioner', 'Franz', 'Fischler', 'had', 'proposed', 'banning', 'sheep', 'brains', ',', 'spleens', 'and', 'spinal', 'cords', 'from', 'the', 'human', 'and', 'animal', 'food', 'chains', 'after', 'reports', 'from', 'Britain', 'and', 'France', 'that', 'under', 'laboratory', 'conditions', 'sheep', 'could', 'contract', 'Bovine', 'Spongiform', 'Encephalopathy', '(', 'BSE', ')', '--', 'mad', 'cow', 'disease', '.'], [3, 0, 0, 1, 2, 0, 0, 0, 0, 0, 0, 0, 0, 0, 0, 0, 0, 0, 0, 0, 0, 0, 0, 0, 0, 5, 0, 5, 0, 0, 0, 0, 0, 0, 0, 7, 8, 8, 0, 7, 0, 0, 0, 0, 0, 0])\n",
            "(['F.C.', 'La', 'Valletta', '-', 'Gilbert', 'Agius', '(', '24th', ')'], [3, 4, 4, 0, 1, 2, 0, 0, 0])\n",
            "(['Consultations', 'should', 'be', 'held', 'to', 'set', 'the', 'time', 'and', 'format', 'of', 'the', 'talks', ',', 'the', 'official', 'Xinhua', 'news', 'agency', 'quoted', 'Tang', 'Shubei', ',', 'executive', 'vice', 'chairman', 'of', 'the', 'Association', 'for', 'Relations', 'Across', 'the', 'Taiwan', 'Straits', ',', 'as', 'saying', 'late', 'on', 'Wednesday', '.'], [0, 0, 0, 0, 0, 0, 0, 0, 0, 0, 0, 0, 0, 0, 0, 0, 3, 0, 0, 0, 1, 2, 0, 0, 0, 0, 0, 0, 3, 4, 4, 4, 4, 4, 4, 0, 0, 0, 0, 0, 0, 0])\n",
            "(['Zhirinovsky', 'visited', 'Iraq', 'twice', 'in', '1995', '.'], [1, 0, 5, 0, 0, 0, 0])\n",
            "(['Israel', 'gave', 'Palestinian', 'President', 'Yasser', 'Arafat', 'permission', 'on', 'Thursday', 'to', 'fly', 'over', 'its', 'territory', 'to', 'the', 'West', 'Bank', ',', 'ending', 'a', 'brief', 'Israeli-PLO', 'crisis', ',', 'an', 'Arafat', 'adviser', 'said', '.'], [5, 0, 7, 0, 1, 2, 0, 0, 0, 0, 0, 0, 0, 0, 0, 0, 5, 6, 0, 0, 0, 0, 7, 0, 0, 0, 1, 0, 0, 0])\n",
            "(['ATHENS', '1996-08-22'], [5, 0])\n",
            "(['NOTES', 'ISSUED', 'OFF', 'EMTN', 'PROGRAMME'], [0, 0, 0, 0, 0])\n",
            "(['LONDON', '1996-08-22'], [5, 0])\n",
            "(['Exports', '14,494', '14,153', '56,126', '56,261'], [0, 0, 0, 0, 0])\n",
            "(['69', 'Justin', 'Leonard', ',', 'Mark', 'Brooks'], [0, 1, 2, 0, 1, 2])\n",
            "(['Gloria', 'Bistrita', 'won', '4-2', 'on', 'aggregate', 'and', 'qualified', 'for', 'the', 'first', 'round', 'of', 'the', 'Cup', 'winners', 'Cup', '.'], [3, 4, 0, 0, 0, 0, 0, 0, 0, 0, 0, 0, 0, 0, 7, 8, 8, 0])\n",
            "(['PRESS', 'DIGEST', '-', 'France', '-', 'Le', 'Monde', 'Aug', '22', '.'], [0, 0, 0, 5, 0, 3, 4, 0, 0, 0])\n",
            "(['\"', 'Rajavi', 'emphasised', 'that', 'the', 'Iranian', 'Resistance', 'would', 'continue', 'to', 'stand', 'side', 'by', 'side', 'with', 'their', 'Kurdish', 'compatriots', 'and', 'the', 'resistance', 'movement', 'in', 'Iranian', 'Kurdistan', ',', '\"', 'it', 'said', '.'], [0, 7, 0, 0, 0, 7, 3, 0, 0, 0, 0, 0, 0, 0, 0, 0, 7, 0, 0, 0, 0, 0, 0, 5, 6, 0, 0, 0, 0, 0])\n",
            "(['Afghan', 'UAE', 'embassy', 'says', 'Taleban', 'guards', 'going', 'home', '.'], [7, 5, 0, 0, 7, 0, 0, 0, 0])\n",
            "(['3', '-', 'Wayne', 'Ferreira', '(', 'South', 'Africa', ')', 'beat', 'Jiri', 'Novak', '(', 'Czech'], [0, 0, 1, 2, 0, 5, 6, 0, 0, 1, 2, 0, 5])\n",
            "(['Fischler', 'proposed', 'EU-wide', 'measures', 'after', 'reports', 'from', 'Britain', 'and', 'France', 'that', 'under', 'laboratory', 'conditions', 'sheep', 'could', 'contract', 'Bovine', 'Spongiform', 'Encephalopathy', '(', 'BSE', ')', '--', 'mad', 'cow', 'disease', '.'], [1, 0, 7, 0, 0, 0, 0, 5, 0, 5, 0, 0, 0, 0, 0, 0, 0, 7, 8, 8, 0, 7, 0, 0, 0, 0, 0, 0])\n",
            "(['\"', 'This', 'is', 'not', 'true', '.'], [0, 0, 0, 0, 0, 0])\n",
            "(['Thursday', ':'], [0, 0])\n",
            "(['Pakistan', ':', 'Aamir', 'Sohail', ',', 'Saeed', 'Anwar', ',', 'Ijaz', 'Ahmed', ','], [5, 0, 1, 2, 0, 1, 2, 0, 1, 2, 0])\n",
            "(['These', 'are', 'some', 'of', 'the', 'leading', 'stories', 'in', 'the', 'official', 'Iraqi', 'press', 'on', 'Thursday', '.'], [0, 0, 0, 0, 0, 0, 0, 0, 0, 0, 7, 0, 0, 0, 0])\n",
            "(['The', 'president', \"'s\", 'aircraft', 'has', 'received', 'permission', 'to', 'pass', 'through', 'Israeli', 'airspace', 'but', 'the', 'president', 'is', 'not', 'expected', 'to', 'travel', 'to', 'the', 'West', 'Bank', 'before', 'Monday', ',', '\"', 'Nabil', 'Abu', 'Rdainah', 'told', 'Reuters', '.'], [0, 0, 0, 0, 0, 0, 0, 0, 0, 0, 7, 0, 0, 0, 0, 0, 0, 0, 0, 0, 0, 0, 5, 6, 0, 0, 0, 0, 1, 2, 2, 0, 3, 0])\n",
            "(['The', 'spot', 'riyal', 'was', 'put', 'at', '3.7504', '/', '06', 'to', 'the', 'dollar', '.'], [0, 0, 0, 0, 0, 0, 0, 0, 0, 0, 0, 0, 0])\n",
            "(['They', 'said', 'Zhirinovsky', 'told', 'Saddam', 'before', 'he', 'left', 'Baghdad', 'on', 'Wednesday', 'that', 'his', 'Liberal', 'Democratic', 'party', 'and', 'the', 'Russian', 'Duma', '(', 'parliament', ')', '\"', 'are', 'calling', 'for', 'an', 'immediate', 'lifting', 'of', 'the', 'embargo', '\"', 'imposed', 'on', 'Iraq', 'after', 'its', '1990', 'invasion', 'of', 'Kuwait', '.'], [0, 0, 1, 0, 1, 0, 0, 0, 5, 0, 0, 0, 0, 3, 4, 4, 0, 0, 7, 3, 0, 0, 0, 0, 0, 0, 0, 0, 0, 0, 0, 0, 0, 0, 0, 0, 5, 0, 0, 0, 0, 0, 5, 0])\n",
            "(['--', 'Paris', 'Newsroom', '+33', '1', '42', '21', '53', '81'], [0, 3, 4, 0, 0, 0, 0, 0, 0])\n",
            "(['Summary', 'of', 'Consolidated', 'Financial', 'Data'], [0, 0, 3, 4, 4])\n",
            "(['LONDON', '1996-08-22'], [5, 0])\n",
            "(['Kandahar', 'is', 'the', 'headquarters', 'of', 'the', 'opposition', 'Taleban', 'militia', '.'], [5, 0, 0, 0, 0, 0, 0, 7, 0, 0])\n",
            "(['-', 'Financial', 'negotiations', 'between', 'Lebanon', 'and', 'Pakistan', '.'], [0, 0, 0, 0, 5, 0, 5, 0])\n",
            "(['The', 'Greek', 'socialist', 'party', \"'s\", 'executive', 'bureau', 'gave', 'Prime', 'Minister', 'Costas', 'Simitis', 'its', 'backing', 'if', 'he', 'chooses', 'to', 'call', 'snap', 'elections', ',', 'its', 'general', 'secretary', 'Costas', 'Skandalidis', 'told', 'reporters', 'on', 'Thursday', '.'], [0, 7, 0, 0, 0, 0, 0, 0, 0, 0, 1, 2, 0, 0, 0, 0, 0, 0, 0, 0, 0, 0, 0, 0, 0, 1, 2, 0, 0, 0, 0, 0])\n",
            "(['Tap', 'sales', 'began', 'on', 'Monday', 'and', 'are', 'being', 'held', 'daily', 'from', '07.00', 'GMT', 'to', '15.00', 'GMT', 'until', 'further', 'notice', '.'], [0, 0, 0, 0, 0, 0, 0, 0, 0, 0, 0, 0, 7, 0, 0, 7, 0, 0, 0, 0])\n",
            "(['There', 'is', 'no', 'objection', 'to', 'their', 'travel', ',', '\"', 'he', 'added', '.'], [0, 0, 0, 0, 0, 0, 0, 0, 0, 0, 0, 0])\n",
            "(['LONDON', '1996-08-22'], [5, 0])\n",
            "(['He', 'did', 'not', 'elaborate', '.'], [0, 0, 0, 0, 0])\n",
            "(['Arafat', 'to', 'meet', 'Peres', 'in', 'Gaza', 'after', 'flight', 'ban', '.'], [1, 0, 0, 1, 0, 5, 0, 0, 0, 0])\n",
            "(['Celtic', \"'s\", 'Jackie', 'McNamara', ',', 'who', 'did', 'well', 'with', 'last', 'season', \"'s\", 'successful', 'under-21', 'team', ',', 'earns', 'a', 'call-up', 'to', 'the', 'senior', 'squad', '.'], [3, 0, 1, 2, 0, 0, 0, 0, 0, 0, 0, 0, 0, 0, 0, 0, 0, 0, 0, 0, 0, 0, 0, 0])\n",
            "(['TENNIS', '-', 'RESULTS', 'AT', 'CANADIAN', 'OPEN', '.'], [0, 0, 0, 0, 7, 8, 0])\n",
            "(['Motor-bike', 'registration', 'rose', '32.7', 'percent', 'in', 'the', 'period', '.'], [0, 0, 0, 0, 0, 0, 0, 0, 0])\n",
            "(['These', 'are', 'leading', 'stories', 'in', 'Thursday', \"'s\", 'afternoon', 'daily', 'Le', 'Monde', ',', 'dated', 'Aug', '23', '.'], [0, 0, 0, 0, 0, 0, 0, 0, 0, 3, 4, 0, 0, 0, 0, 0])\n",
            "(['Arafat', 'subsequently', 'cancelled', 'a', 'meeting', 'between', 'Israeli', 'and', 'PLO', 'officials', ',', 'on', 'civilian', 'affairs', ',', 'at', 'the', 'Allenby', 'Bridge', 'crossing', 'between', 'Jordan', 'and', 'the', 'West', 'Bank', '.'], [1, 0, 0, 0, 0, 0, 7, 0, 3, 0, 0, 0, 0, 0, 0, 0, 0, 5, 6, 0, 0, 5, 0, 0, 5, 6, 0])\n",
            "(['Germany', \"'s\", 'Agriculture', 'Ministry', 'suggested', 'on', 'Wednesday', 'that', 'consumers', 'avoid', 'eating', 'meat', 'from', 'British', 'sheep', 'until', 'scientists', 'determine', 'whether', 'mad', 'cow', 'disease', 'can', 'be', 'transmitted', 'to', 'the', 'animals', '.'], [5, 0, 3, 4, 0, 0, 0, 0, 0, 0, 0, 0, 0, 7, 0, 0, 0, 0, 0, 0, 0, 0, 0, 0, 0, 0, 0, 0, 0])\n",
            "(['A', 'rare', 'early', 'handwritten', 'draft', 'of', 'a', 'song', 'by', 'U.S.', 'guitar', 'legend', 'Jimi', 'Hendrix', 'was', 'sold', 'for', 'almost', '$', '17,000', 'on', 'Thursday', 'at', 'an', 'auction', 'of', 'some', 'of', 'the', 'late', 'musician', \"'s\", 'favourite', 'possessions', '.'], [0, 0, 0, 0, 0, 0, 0, 0, 0, 5, 0, 0, 1, 2, 0, 0, 0, 0, 0, 0, 0, 0, 0, 0, 0, 0, 0, 0, 0, 0, 0, 0, 0, 0, 0])\n",
            "(['70', 'Tim', 'Herron', ',', 'Duffy', 'Waldorf', ',', 'Davis', 'Love', ',', 'Anders', 'Forsbrand'], [0, 1, 2, 0, 1, 2, 0, 1, 2, 0, 1, 2])\n",
            "(['--', 'Shutdown', 'of', 'Bally', \"'s\", 'French', 'factories', 'points', 'up', 'shoe', 'industry', 'crisis', ',', 'with', 'French', 'manufacturers', 'undercut', 'by', 'low-wage', 'country', 'competition', 'and', 'failure', 'to', 'keep', 'abreast', 'of', 'trends', '.'], [0, 0, 0, 3, 0, 7, 0, 0, 0, 0, 0, 0, 0, 0, 7, 0, 0, 0, 0, 0, 0, 0, 0, 0, 0, 0, 0, 0, 0])\n",
            "(['Republic', ')', '7-5', '6-3'], [5, 0, 0, 0])\n",
            "(['A', 'spokesman', 'for', 'the', 'group', 'said', 'the', 'meeting', '\"', 'signals', 'a', 'new', 'level', 'of', 'cooperation', 'between', 'Mujahideen', 'Khalq', 'and', 'the', 'Iranian', 'Kurdish', 'oppositions', '\"', '.'], [0, 0, 0, 0, 0, 0, 0, 0, 0, 0, 0, 0, 0, 0, 0, 0, 3, 4, 0, 0, 7, 8, 0, 0, 0])\n",
            "(['Like', 'Prescott', ',', 'Jack', 'Berry', ',', 'trainer', 'of', 'Mind', 'Games', ',', 'had', 'gone', 'into', 'Thursday', \"'s\", 'race', 'in', 'search', 'of', 'a', 'first', 'group', 'one', 'success', 'after', 'many', 'years', 'around', 'the', 'top', 'of', 'his', 'profession', '.'], [0, 1, 0, 1, 2, 0, 0, 0, 1, 2, 0, 0, 0, 0, 0, 0, 0, 0, 0, 0, 0, 0, 0, 0, 0, 0, 0, 0, 0, 0, 0, 0, 0, 0, 0])\n",
            "(['Aamir', 'Sohail', '6-1-17-0'], [1, 2, 0])\n",
            "(['6-7', '(', '3-7', ')', '6-4', '6-4'], [0, 0, 0, 0, 0, 0])\n",
            "(['GLASGOW', '1996-08-22'], [5, 0])\n",
            "(['--', 'E.', 'Auchard', ',', 'Wall', 'Street', 'bureau', ',', '212-859-1736'], [0, 1, 2, 0, 3, 4, 4, 0, 0])\n",
            "(['67', 'not', 'out', ')', 'v', 'Hampshire', '.'], [0, 0, 0, 0, 0, 3, 0])\n",
            "(['(', 'players', 'U.S.', 'unless', 'stated', ')', ':'], [0, 0, 5, 0, 0, 0, 0])\n",
            "(['6-3'], [0])\n",
            "(['BUSINESS', 'PAGES'], [0, 0])\n",
            "(['this', 'artificial', 'atmosphere', 'is', 'very', 'dangerous', 'because', 'those', 'who', 'spread', 'it', 'could', 'become', 'its', 'prisoners', ',', '\"', 'Levy', 'said', '.'], [0, 0, 0, 0, 0, 0, 0, 0, 0, 0, 0, 0, 0, 0, 0, 0, 0, 1, 0, 0])\n",
            "(['An', 'Iranian', 'exile', 'group', 'based', 'in', 'Iraq', 'vowed', 'on', 'Thursday', 'to', 'extend', 'support', 'to', 'Iran', \"'s\", 'Kurdish', 'rebels', 'after', 'they', 'were', 'attacked', 'by', 'Iranian', 'troops', 'deep', 'inside', 'Iraq', 'last', 'month', '.'], [0, 7, 0, 0, 0, 0, 5, 0, 0, 0, 0, 0, 0, 0, 5, 0, 7, 0, 0, 0, 0, 0, 0, 7, 0, 0, 0, 5, 0, 0, 0])\n",
            "(['JERUSALEM', '1996-08-22'], [5, 0])\n",
            "(['REUTER'], [1])\n",
            "(['The', 'notes', 'were', 'bought', 'for', '$', '31.5', 'million', '.'], [0, 0, 0, 0, 0, 0, 0, 0, 0])\n",
            "(['Everton', \"'s\", 'Duncan', 'Ferguson', ',', 'who', 'scored', 'twice', 'against', 'Manchester', 'United', 'on', 'Wednesday', ',', 'was', 'picked', 'on', 'Thursday', 'for', 'the', 'Scottish', 'squad', 'after', 'a', '20-month', 'exile', '.'], [3, 0, 1, 2, 0, 0, 0, 0, 0, 3, 4, 0, 0, 0, 0, 0, 0, 0, 0, 0, 7, 0, 0, 0, 0, 0, 0])\n",
            "(['CRICKET', '-', 'ENGLAND', '100-2', 'AT', 'LUNCH', 'ON', 'FIRST', 'DAY', 'OF', 'THIRD', 'TEST', '.'], [0, 0, 5, 0, 0, 0, 0, 0, 0, 0, 0, 0, 0])\n",
            "(['S.', 'Campbell', '69', ';', 'G.', 'Rose', '7-73', ')', '.'], [1, 2, 0, 0, 1, 2, 0, 0, 0])\n",
            "(['Porsche', \"'s\", 'registrations', 'fell', 'to', '554', 'from', '643', '.'], [3, 0, 0, 0, 0, 0, 0, 0, 0])\n",
            "(['Mickelson', ',', 'Greg', 'Norman', '(', 'Australia', ')'], [1, 0, 1, 2, 0, 5, 0])\n",
            "(['(', 'Germany', ')', ',', 'Alexander', 'Cejka', '(', 'Germany', ')', ',', 'Hal', 'Sutton', ',', 'Tom', 'Lehman'], [0, 5, 0, 0, 1, 2, 0, 5, 0, 0, 1, 2, 0, 1, 2])\n",
            "(['6-4'], [0])\n",
            "(['Palestinian', 'officials', 'accused', 'right-wing', 'Prime', 'Minister', 'Benjamin', 'Netanyahu', 'of', 'trying', 'to', 'stop', 'the', 'Ramallah', 'meeting', 'by', 'keeping', 'Arafat', 'grounded', '.'], [7, 0, 0, 0, 0, 0, 1, 2, 0, 0, 0, 0, 0, 5, 0, 0, 0, 1, 0, 0])\n",
            "(['6-2'], [0])\n",
            "(['Moscow', 'said', 'the', 'crew', \"'s\", 'nationality', 'was', 'coincidental', '.'], [5, 0, 0, 0, 0, 0, 0, 0, 0])\n",
            "(['-', 'Prime', 'Minister', 'Hariri', ':', 'Israeli', 'threats', 'do', 'no', 'serve', 'peace', '.'], [0, 0, 0, 1, 0, 7, 0, 0, 0, 0, 0, 0])\n",
            "(['ZDF', 'said', 'Germany', 'imported', '47,600', 'sheep', 'from', 'Britain', 'last', 'year', ',', 'nearly', 'half', 'of', 'total', 'imports', '.'], [3, 0, 5, 0, 0, 0, 0, 5, 0, 0, 0, 0, 0, 0, 0, 0, 0])\n",
            "(['Polish', 'diplomat', 'denies', 'nurses', 'stranded', 'in', 'Libya', '.'], [7, 0, 0, 0, 0, 0, 5, 0])\n",
            "(['Greek', 'socialists', 'give', 'PM', 'green', 'light', 'for', 'election', '.'], [7, 0, 0, 0, 0, 0, 0, 0, 0])\n",
            "(['Three', 'Afghan', 'guards', 'brought', 'to', 'the', 'United', 'Arab', 'Emirates', 'last', 'week', 'by', 'Russian', 'hostages', 'who', 'escaped', 'from', 'the', 'Taleban', 'militia', 'will', 'return', 'to', 'Afghanistan', 'in', 'a', 'few', 'days', ',', 'the', 'Afghan', 'embassy', 'in', 'Abu', 'Dhabi', 'said', 'on', 'Thursday', '.'], [0, 7, 0, 0, 0, 0, 5, 6, 6, 0, 0, 0, 7, 0, 0, 0, 0, 0, 7, 0, 0, 0, 0, 5, 0, 0, 0, 0, 0, 0, 7, 0, 0, 5, 6, 0, 0, 0, 0])\n",
            "(['BRUSSELS', '1996-08-22'], [5, 0])\n",
            "(['Philip', 'Maslowe', ',', 'chief', 'financial', 'officer', 'of', 'the', 'preschool', 'and', 'child', 'care', 'company', ',', 'said', 'the', 'buyback', '\"', 'offered', 'an', 'opportunity', 'to', 'reduce', 'the', 'company', \"'s\", 'weighted', 'average', 'interest', 'costs', 'and', 'improve', 'future', 'cash', 'flows', 'and', 'earnings', '.', '\"'], [1, 2, 0, 0, 0, 0, 0, 0, 0, 0, 0, 0, 0, 0, 0, 0, 0, 0, 0, 0, 0, 0, 0, 0, 0, 0, 0, 0, 0, 0, 0, 0, 0, 0, 0, 0, 0, 0, 0])\n",
            "(['At', 'Weston-super-Mare', ':', 'Durham', '326', '(', 'D.', 'Cox', '95', 'not', 'out', ','], [0, 5, 0, 3, 0, 0, 1, 2, 0, 0, 0, 0])\n",
            "(['Waldbaum', 'Hamlet', 'Cup', 'tennis', 'tournament', 'on', 'Wednesday', '(', 'prefix'], [7, 8, 8, 0, 0, 0, 0, 0, 0])\n",
            "(['Software', 'Revenue', '2,383', '1,558', '1,086', '1,074'], [0, 0, 0, 0, 0, 0])\n",
            "(['-', 'Confrontation', 'is', 'escalating', 'between', 'Hizbollah', 'and', 'the', 'government', '.'], [0, 0, 0, 0, 0, 3, 0, 0, 0, 0])\n",
            "(['Income', 'Statement', 'Data', ':'], [0, 0, 0, 0])\n",
            "(['LONDON', '1996-08-22'], [5, 0])\n",
            "(['EU', 'rejects', 'German', 'call', 'to', 'boycott', 'British', 'lamb', '.'], [3, 0, 7, 0, 0, 0, 7, 0, 0])\n",
            "(['The', 'plugged', 'wells', 'have', 'accounted', 'for', 'a', 'dip', 'of', '30,000', 'barrels', 'per', 'day', '(', 'bpd', ')', 'in', 'Heidrun', 'output', 'to', 'roughly', '220,000', 'bpd', ',', 'according', 'to', 'the', 'company', \"'s\", 'Status', 'Weekly', 'newsletter', '.'], [0, 0, 0, 0, 0, 0, 0, 0, 0, 0, 0, 0, 0, 0, 0, 0, 0, 5, 0, 0, 0, 0, 0, 0, 0, 0, 0, 0, 0, 3, 4, 0, 0])\n",
            "(['75', 'Jim', 'Furyk', ',', 'Satoshi', 'Higashi', '(', 'Japan', ')', ',', 'Willie', 'Wood', ',', 'Shigeki'], [0, 1, 2, 0, 1, 2, 0, 5, 0, 0, 1, 2, 0, 1])\n",
            "(['66', ',', 'M.', 'Vaughan', '57', ')', 'v', 'Lancashire', '.'], [0, 0, 1, 2, 0, 0, 0, 3, 0])\n",
            "(['AN-NAHAR'], [3])\n",
            "(['But', 'it', 'slammed', 'Damascus', 'for', 'creating', 'what', 'it', 'called', 'a', 'dangerous', 'atmosphere', '.'], [0, 0, 0, 5, 0, 0, 0, 0, 0, 0, 0, 0, 0])\n",
            "(['German', 'first-time', 'registrations', 'of', 'motor', 'vehicles', 'jumped', '14.2', 'percent', 'in', 'July', 'this', 'year', 'from', 'the', 'year-earlier', 'period', ',', 'the', 'Federal', 'office', 'for', 'motor', 'vehicles', 'said', 'on', 'Thursday', '.'], [7, 0, 0, 0, 0, 0, 0, 0, 0, 0, 0, 0, 0, 0, 0, 0, 0, 0, 0, 3, 4, 4, 4, 4, 0, 0, 0, 0])\n",
            "(['But', 'some', 'members', 'of', 'the', 'EU', \"'s\", 'standing', 'veterinary', 'committee', 'questioned', 'whether', 'the', 'action', 'was', 'necessary', 'given', 'the', 'slight', 'risk', 'to', 'human', 'health', '.'], [0, 0, 0, 0, 0, 3, 0, 0, 0, 0, 0, 0, 0, 0, 0, 0, 0, 0, 0, 0, 0, 0, 0, 0])\n",
            "(['The', 'wells', 'will', 'be', 'reperforated', 'and', 'gravel', 'will', 'be', 'pumped', 'into', 'the', 'reservoir', 'through', 'one', 'of', 'the', 'wells', 'to', 'avoid', 'plugging', 'problems', 'in', 'the', 'future', ',', 'it', 'said', '.'], [0, 0, 0, 0, 0, 0, 0, 0, 0, 0, 0, 0, 0, 0, 0, 0, 0, 0, 0, 0, 0, 0, 0, 0, 0, 0, 0, 0, 0])\n",
            "(['Sheep', 'have', 'long', 'been', 'known', 'to', 'contract', 'scrapie', ',', 'a', 'similar', 'brain-wasting', 'disease', 'to', 'BSE', 'which', 'is', 'believed', 'to', 'have', 'been', 'transferred', 'to', 'cattle', 'through', 'feed', 'containing', 'animal', 'waste', '.'], [0, 0, 0, 0, 0, 0, 0, 0, 0, 0, 0, 0, 0, 0, 7, 0, 0, 0, 0, 0, 0, 0, 0, 0, 0, 0, 0, 0, 0, 0])\n",
            "(['Syria', 'accused', 'Israel', 'on', 'Wednesday', 'of', 'launching', 'a', 'hysterical', 'campaign', 'against', 'it', 'after', 'Israeli', 'television', 'reported', 'that', 'Damascus', 'had', 'recently', 'test', 'fired', 'a', 'missile', '.'], [5, 0, 5, 0, 0, 0, 0, 0, 0, 0, 0, 0, 0, 7, 0, 0, 0, 5, 0, 0, 0, 0, 0, 0, 0])\n",
            "(['Reuters', 'has', 'not', 'verified', 'these', 'stories', 'and', 'does', 'not', 'vouch', 'for', 'their', 'accuracy', '.'], [3, 0, 0, 0, 0, 0, 0, 0, 0, 0, 0, 0, 0, 0])\n",
            "(['The', 'NCB', \"'s\", 'official', 'monthly', 'trade', 'statistics', 'are', 'lagging', 'behind', 'due', 'to', 'changes', 'in', 'customs', 'procedures', 'when', 'Finland', 'joined', 'the', 'European', 'Union', 'at', 'the', 'start', 'of', '1995', '.'], [0, 3, 0, 0, 0, 0, 0, 0, 0, 0, 0, 0, 0, 0, 0, 0, 0, 5, 0, 0, 3, 4, 0, 0, 0, 0, 0, 0])\n",
            "(['Clashes', 'between', 'the', 'two', 'parties', 'broke', 'out', 'at', 'the', 'weekend', 'in', 'the', 'most', 'serious', 'fighting', 'since', 'a', 'U.S.-sponsored', 'ceasefire', 'last', 'year', '.'], [0, 0, 0, 0, 0, 0, 0, 0, 0, 0, 0, 0, 0, 0, 0, 0, 0, 7, 0, 0, 0, 0])\n",
            "(['--', 'Helsinki', 'Newsroom', '+358', '-', '0', '-', '680', '50', '245'], [0, 3, 4, 0, 0, 0, 0, 0, 0, 0])\n",
            "(['LONDON', '1996-08-22'], [5, 0])\n",
            "(['The', 'Syrians', 'are', 'confused', ',', 'they', 'are', 'definitely', 'tense', ',', 'but', 'the', 'general', 'assessment', 'here', 'in', 'Washington', 'is', 'that', 'this', 'is', 'essentially', 'a', 'storm', 'in', 'a', 'teacup', ',', '\"', 'he', 'said', '.'], [0, 7, 0, 0, 0, 0, 0, 0, 0, 0, 0, 0, 0, 0, 0, 0, 5, 0, 0, 0, 0, 0, 0, 0, 0, 0, 0, 0, 0, 0, 0, 0])\n",
            "(['TENNIS', '-', 'RESULTS', 'AT', 'HAMLET', 'CUP', '.'], [0, 0, 0, 0, 7, 8, 0])\n",
            "(['.'], [0])\n",
            "(['(', 'Morocco', ')', '5-7', '6-3', '3-0', 'retired'], [0, 5, 0, 0, 0, 0, 0])\n",
            "(['LAST', 'S&P', 'AA+', 'REOFFER', '='], [0, 3, 0, 0, 0])\n",
            "(['England', 'were', '100', 'for', 'two', 'at', 'lunch', 'on', 'the', 'first', 'day', 'of', 'the', 'third', 'and', 'final', 'test', 'against', 'Pakistan', 'at', 'The', 'Oval', 'on', 'Thursday', '.'], [5, 0, 0, 0, 0, 0, 0, 0, 0, 0, 0, 0, 0, 0, 0, 0, 0, 0, 5, 0, 5, 6, 0, 0, 0])\n",
            "(['--', 'The', 'analyst', 'set', 'a', '12-month', 'price', 'target', 'of', '$', '45', 'and', 'a', 'fiscal', '1996', 'year', 'earnings', 'estimate', 'of', '$', '3.09', 'per', 'share', ',', 'his', 'office', 'said', '.'], [0, 0, 0, 0, 0, 0, 0, 0, 0, 0, 0, 0, 0, 0, 0, 0, 0, 0, 0, 0, 0, 0, 0, 0, 0, 0, 0, 0])\n",
            "(['Mikael', 'Tillstrom', '(', 'Sweden', ')', 'beat', '2', '-', 'Goran', 'Ivanisevic', '(', 'Croatia', ')'], [1, 2, 0, 5, 0, 0, 0, 0, 1, 2, 0, 5, 0])\n",
            "(['At', 'the', 'end', 'of', 'a', 'January', '1967', 'concert', 'in', 'the', 'English', 'city', 'of', 'Nottingham', 'he', 'threw', 'the', 'sheet', 'of', 'paper', 'into', 'the', 'audience', ',', 'where', 'it', 'was', 'retrieved', 'by', 'a', 'fan', '.'], [0, 0, 0, 0, 0, 0, 0, 0, 0, 0, 7, 0, 0, 5, 0, 0, 0, 0, 0, 0, 0, 0, 0, 0, 0, 0, 0, 0, 0, 0, 0, 0])\n",
            "(['OSLO', '1996-08-22'], [5, 0])\n",
            "(['Sandrine', 'Testud', '(', 'France', ')', 'beat', '7', '-', 'Ai', 'Sugiyama', '(', 'Japan', ')', '6-3', '4-6'], [1, 2, 0, 5, 0, 0, 0, 0, 1, 2, 0, 5, 0, 0, 0])\n",
            "(['The', 'guitarist', 'died', 'of', 'a', 'drugs', 'overdose', 'in', '1970', 'aged', '27', '.'], [0, 0, 0, 0, 0, 0, 0, 0, 0, 0, 0, 0])\n",
            "(['Iran', 'heavily', 'bombarded', 'targets', 'in', 'northern', 'Iraq', 'in', 'July', 'in', 'pursuit', 'of', 'KDPI', 'guerrillas', 'based', 'in', 'Iraqi', 'Kurdish', 'areas', 'outside', 'the', 'control', 'of', 'the', 'government', 'in', 'Baghdad', '.'], [5, 0, 0, 0, 0, 0, 5, 0, 0, 0, 0, 0, 3, 0, 0, 0, 7, 8, 0, 0, 0, 0, 0, 0, 0, 0, 5, 0])\n",
            "(['YORK', ',', 'England', '1996-08-22'], [5, 0, 5, 0])\n",
            "(['There', 'are', 'too', 'many', 'holes', 'in', 'what', 'we', 'know', ',', 'and', 'these', 'must', 'be', 'filled', 'very', 'quickly', '.', '\"'], [0, 0, 0, 0, 0, 0, 0, 0, 0, 0, 0, 0, 0, 0, 0, 0, 0, 0, 0])\n",
            "(['At', 'Worcester', ':', 'Warwickshire', '255-9', '(', 'A.', 'Giles', '57', 'not', 'out', ',', 'W.', 'Khan'], [0, 5, 0, 3, 0, 0, 1, 2, 0, 0, 0, 0, 1, 2])\n",
            "(['Jul', '31', ',', '1996', 'Jan', '31', ',', '1996'], [0, 0, 0, 0, 0, 0, 0, 0])\n",
            "(['Shareholders', \"'\", 'Equity', '5,951', '(', '1,461', ')'], [0, 0, 0, 0, 0, 0, 0])\n",
            "(['6-2'], [0])\n",
            "(['A', 'Florida', 'restaurant', 'paid', '10,925', 'pounds', '(', '$', '16,935', ')', 'for', 'the', 'draft', 'of', '\"', 'Ai', \"n't\", 'no', 'telling', '\"', ',', 'which', 'Hendrix', 'penned', 'on', 'a', 'piece', 'of', 'London', 'hotel', 'stationery', 'in', 'late', '1966', '.'], [0, 5, 0, 0, 0, 0, 0, 0, 0, 0, 0, 0, 0, 0, 0, 7, 8, 8, 8, 0, 0, 0, 1, 0, 0, 0, 0, 0, 5, 0, 0, 0, 0, 0, 0])\n",
            "([\"NIDA'A\", 'AL-WATAN'], [3, 4])\n",
            "(['The', 'growth', 'was', 'partly', 'due', 'to', 'an', 'increased', 'number', 'of', 'Germans', 'buying', 'German', 'cars', 'abroad', ',', 'while', 'manufacturers', 'said', 'that', 'domestic', 'demand', 'was', 'weak', ',', 'the', 'federal', 'office', 'said', '.'], [0, 0, 0, 0, 0, 0, 0, 0, 0, 0, 7, 0, 7, 0, 0, 0, 0, 0, 0, 0, 0, 0, 0, 0, 0, 0, 0, 0, 0, 0])\n",
            "(['out', ',', 'M.', 'Dowman', '107', ')', 'v', 'Surrey', '.'], [0, 0, 1, 2, 0, 0, 0, 3, 0])\n",
            "(['The', 'club', 'thought', 'it', '(', 'the', 'job', ')', 'had', 'run', 'its', 'course', 'and', 'I', 'came', 'to', 'the', 'same', 'conclusion', '.', '\"'], [0, 0, 0, 0, 0, 0, 0, 0, 0, 0, 0, 0, 0, 0, 0, 0, 0, 0, 0, 0, 0])\n",
            "(['The', 'spot', 'Saudi', 'riyal', 'against', 'the', 'dollar', 'and', 'riyal', 'interbank', 'deposit', 'rates', 'were', 'mainly', 'steady', 'this', 'week', 'in', 'quiet', 'summer', 'trade', ',', 'dealers', 'in', 'the', 'kingdom', 'said', '.'], [0, 0, 7, 0, 0, 0, 0, 0, 0, 0, 0, 0, 0, 0, 0, 0, 0, 0, 0, 0, 0, 0, 0, 0, 0, 0, 0, 0])\n",
            "(['Port', 'conditions', 'from', 'Lloyds', 'Shipping', 'Intelligence', 'Service', '--'], [0, 0, 0, 3, 4, 4, 4, 0])\n",
            "(['\"', 'The', 'embassy', 'is', 'issuing', 'them', 'travel', 'documents', 'for', 'their', 'return', 'to', 'their', 'homeland', '.'], [0, 0, 0, 0, 0, 0, 0, 0, 0, 0, 0, 0, 0, 0, 0])\n",
            "(['The', 'television', 'also', 'said', 'that', 'Netanyahu', 'had', 'sent', 'messages', 'to', 'reassure', 'Syria', 'via', 'Cairo', ',', 'the', 'United', 'States', 'and', 'Moscow', '.'], [0, 0, 0, 0, 0, 1, 0, 0, 0, 0, 0, 5, 0, 5, 0, 0, 5, 6, 0, 5, 0])\n",
            "(['BEIJING', '1996-08-22'], [5, 0])\n",
            "(['20-6-70-2', ',', 'Mohammad', 'Akram', '12-1-41-1', ',', 'Mushtaq', 'Ahmed', '27-5-78-2', ','], [0, 0, 1, 2, 0, 0, 1, 2, 0, 0])\n",
            "(['out', ',', 'A.', 'Wells', '51', ')', 'v', 'Northamptonshire', '.'], [0, 0, 1, 2, 0, 0, 0, 3, 0])\n",
            "(['CHICAGO', '1996-08-22'], [5, 0])\n",
            "(['Michael', 'Joyce', '(', 'U.S.', ')', 'beat', '3', '-', 'Richey', 'Reneberg', '(', 'U.S.', ')', '3-6', '6-4'], [1, 2, 0, 5, 0, 0, 0, 0, 1, 2, 0, 5, 0, 0, 0])\n",
            "(['A', 'Polish', 'diplomat', 'on', 'Thursday', 'denied', 'a', 'Polish', 'tabloid', 'report', 'this', 'week', 'that', 'Libya', 'was', 'refusing', 'exit', 'visas', 'to', '100', 'Polish', 'nurses', 'trying', 'to', 'return', 'home', 'after', 'working', 'in', 'the', 'North', 'African', 'country', '.'], [0, 7, 0, 0, 0, 0, 0, 7, 0, 0, 0, 0, 0, 5, 0, 0, 0, 0, 0, 0, 7, 0, 0, 0, 0, 0, 0, 0, 0, 0, 7, 8, 0, 0])\n",
            "(['The', 'Greek', 'socialist', 'party', \"'s\", 'executive', 'bureau', 'gave', 'the', 'green', 'light', 'to', 'Prime', 'Minister', 'Costas', 'Simitis', 'to', 'call', 'snap', 'elections', ',', 'its', 'general', 'secretary', 'Costas', 'Skandalidis', 'told', 'reporters', '.'], [0, 7, 0, 0, 0, 0, 0, 0, 0, 0, 0, 0, 0, 0, 1, 2, 0, 0, 0, 0, 0, 0, 0, 0, 1, 2, 0, 0, 0])\n",
            "(['The', 'European', 'Commission', 'agreed', 'this', 'month', 'to', 'rethink', 'a', 'proposal', 'to', 'ban', 'the', 'use', 'of', 'suspect', 'sheep', 'tissue', 'after', 'some', 'EU', 'veterinary', 'experts', 'questioned', 'whether', 'it', 'was', 'justified', '.'], [0, 3, 4, 0, 0, 0, 0, 0, 0, 0, 0, 0, 0, 0, 0, 0, 0, 0, 0, 0, 3, 0, 0, 0, 0, 0, 0, 0, 0])\n",
            "(['2.', 'Eveningperformance', '16-1', '(', 'Chris', 'Rutter', ')'], [0, 1, 0, 0, 1, 2, 0])\n",
            "(['A', 'Mujahideen', 'Khalq', 'statement', 'said', 'its', 'leader', 'Massoud', 'Rajavi', 'met', 'in', 'Baghdad', 'the', 'Secretary-General', 'of', 'the', 'Kurdistan', 'Democratic', 'Party', 'of', 'Iran', '(', 'KDPI', ')', 'Hassan', 'Rastegar', 'on', 'Wednesday', 'and', 'voiced', 'his', 'support', 'to', 'Iran', \"'s\", 'rebel', 'Kurds', '.'], [0, 3, 4, 0, 0, 0, 0, 1, 2, 0, 0, 5, 0, 0, 0, 0, 3, 4, 4, 4, 4, 0, 3, 0, 1, 2, 0, 0, 0, 0, 0, 0, 0, 5, 0, 0, 7, 0])\n",
            "(['MOODY', 'AA1', 'LISTING', 'LUX', 'PAY', 'FREQ', '='], [0, 0, 0, 0, 0, 0, 0])\n",
            "(['Blackburn', 'announced', 'on', 'Wednesday', 'they', 'and', 'Dalglish', 'had', 'parted', 'by', 'mutual', 'consent', '.'], [3, 0, 0, 0, 0, 0, 1, 0, 0, 0, 0, 0, 0])\n",
            "(['Hassan', 'Hafidh'], [1, 2])\n",
            "(['The', 'continued', 'strong', 'tone', 'to', 'cash', 'cattle', 'and', 'beef', 'markets', 'should', 'prompt', 'further', 'support', '.'], [0, 0, 0, 0, 0, 0, 0, 0, 0, 0, 0, 0, 0, 0, 0])\n",
            "(['The', 'UAE', 'said', 'on', 'Monday', 'it', 'would', 'hand', 'over', 'the', 'three', 'to', 'the', 'International', 'Red', 'Crescent', ',', 'possibly', 'last', 'Tuesday', '.'], [0, 5, 0, 0, 0, 0, 0, 0, 0, 0, 0, 0, 0, 3, 4, 4, 0, 0, 0, 0, 0])\n",
            "(['He', '(', 'Mind', 'Games', ')', 'was', 'going', 'as', 'well', 'as', 'any', 'of', 'them', 'one', 'and', 'a', 'half', 'furlongs', '(', '300', 'metres', ')', 'out', 'but', 'he', 'just', 'did', \"n't\", 'quicken', '.', '\"'], [0, 0, 1, 2, 0, 0, 0, 0, 0, 0, 0, 0, 0, 0, 0, 0, 0, 0, 0, 0, 0, 0, 0, 0, 0, 0, 0, 0, 0, 0, 0])\n",
            "(['9', '-', 'Cedric', 'Pioline', '(', 'France', ')', 'beat', 'Gregory', 'Carraz', '(', 'France', ')', '7-6'], [0, 0, 1, 2, 0, 5, 0, 0, 1, 2, 0, 5, 0, 0])\n",
            "(['1996', '1995', '1996', '1995'], [0, 0, 0, 0])\n",
            "(['6', '-', 'MaliVai', 'Washington', '(', 'U.S.', ')', 'beat', 'Alex', 'Corretja', '(', 'Spain', ')', '6-4'], [0, 0, 1, 2, 0, 5, 0, 0, 1, 2, 0, 5, 0, 0])\n",
            "(['Mark', 'Philippoussis', '(', 'Australia', ')', 'beat', '8', '-', 'Marc', 'Rosset'], [1, 2, 0, 5, 0, 0, 0, 0, 1, 2])\n",
            "(['In', 'a', 'telephone', 'call', 'to', 'a', 'local', 'newspaper', 'from', 'his', 'holiday', 'home', 'in', 'Spain', ',', 'Dalglish', 'said', ':', '\"', 'We', 'came', 'to', 'the', 'same', 'opinion', ',', 'albeit', 'the', 'club', 'came', 'to', 'it', 'a', 'little', 'bit', 'earlier', 'than', 'me', '.', '\"'], [0, 0, 0, 0, 0, 0, 0, 0, 0, 0, 0, 0, 0, 5, 0, 1, 0, 0, 0, 0, 0, 0, 0, 0, 0, 0, 0, 0, 0, 0, 0, 0, 0, 0, 0, 0, 0, 0, 0, 0])\n",
            "(['China', ',', 'which', 'has', 'long', 'opposed', 'all', 'Taipei', 'efforts', 'to', 'gain', 'greater', 'international', 'recognition', ',', 'was', 'infuriated', 'by', 'a', 'visit', 'to', 'Ukraine', 'this', 'week', 'by', 'Taiwanese', 'Vice', 'President', 'Lien', '.'], [5, 0, 0, 0, 0, 0, 0, 5, 0, 0, 0, 0, 0, 0, 0, 0, 0, 0, 0, 0, 0, 5, 0, 0, 0, 7, 0, 0, 1, 0])\n",
            "(['CRICKET', '-', 'ENGLISH', 'COUNTY', 'CHAMPIONSHIP', 'SCORES', '.'], [0, 0, 7, 8, 8, 0, 0])\n",
            "(['Eight', 'ran', '.'], [0, 0, 0])\n",
            "(['Itamar', 'Rabinovich', ',', 'who', 'as', 'Israel', \"'s\", 'ambassador', 'to', 'Washington', 'conducted', 'unfruitful', 'negotiations', 'with', 'Syria', ',', 'told', 'Israel', 'Radio', 'it', 'looked', 'like', 'Damascus', 'wanted', 'to', 'talk', 'rather', 'than', 'fight', '.'], [1, 2, 0, 0, 0, 5, 0, 0, 0, 5, 0, 0, 0, 0, 5, 0, 0, 3, 4, 0, 0, 0, 5, 0, 0, 0, 0, 0, 0, 0])\n",
            "(['TYPE', 'FRN', 'BASE', '3M', 'LIBOR', 'PAY', 'DATE', 'S23.SEP.96'], [0, 0, 0, 3, 0, 0, 0, 0])\n",
            "(['Finnish', 'April', 'trade', 'surplus', '3.8', 'billion', 'markka', '-', 'NCB', '.'], [7, 0, 0, 0, 0, 0, 0, 0, 3, 0])\n",
            "(['Iraq', \"'s\", 'Saddam', 'meets', 'Russia', \"'s\", 'Zhirinovsky', '.'], [5, 0, 1, 0, 5, 0, 1, 0])\n",
            "(['To', 'bat', ':', 'R.', 'Croft', ',', 'D.', 'Cork', ',', 'A.', 'Mullally'], [0, 0, 0, 1, 2, 0, 1, 2, 0, 1, 2])\n",
            "(['Bowling', '(', 'to', 'date', ')', ':', 'Wasim', 'Akram', '25-8-61-1', ',', 'Waqar', 'Younis'], [0, 0, 0, 0, 0, 0, 1, 2, 0, 0, 1, 2])\n",
            "(['that', 'is', 'to', 'end', 'the', 'state', 'of', 'hostility', ',', '\"', 'Thursday', \"'s\", 'overseas', 'edition', 'of', 'the', 'People', \"'s\", 'Daily', 'quoted', 'Tang', 'as', 'saying', '.'], [0, 0, 0, 0, 0, 0, 0, 0, 0, 0, 0, 0, 0, 0, 0, 0, 3, 4, 4, 0, 1, 0, 0, 0])\n",
            "(['ATHENS', '1996-08-22'], [5, 0])\n",
            "(['(', 'In', 'Thousands', ',', 'except', 'per', 'share', 'data', ')'], [0, 0, 0, 0, 0, 0, 0, 0, 0])\n",
            "(['Prescott', ',', 'reluctant', 'to', 'go', 'into', 'the', 'winner', \"'s\", 'enclosure', 'until', 'the', 'result', 'of', 'the', 'photo-finish', 'was', 'announced', ',', 'said', ':', '\"', 'Twenty-five', 'years', 'and', 'I', 'have', 'never', 'been', 'there', 'so', 'I', 'thought', 'I', 'had', 'better', 'wait', 'a', 'bit', 'longer', '.', '\"'], [1, 0, 0, 0, 0, 0, 0, 0, 0, 0, 0, 0, 0, 0, 0, 0, 0, 0, 0, 0, 0, 0, 0, 0, 0, 0, 0, 0, 0, 0, 0, 0, 0, 0, 0, 0, 0, 0, 0, 0, 0, 0])\n",
            "(['--', 'Amsterdam', 'newsroom', '+31', '20', '504', '5000'], [0, 5, 0, 0, 0, 0, 0])\n",
            "(['Hilary', 'Gush'], [1, 2])\n",
            "(['--', 'Secretary', 'general', 'of', 'the', 'Sud-PTT', 'trade', 'union', 'at', 'France', 'Telecom', 'all', 'the', 'elements', 'are', 'in', 'place', 'for', 'social', 'unrest', 'in', 'the', 'next', 'few', 'weeks', '.'], [0, 0, 0, 0, 0, 7, 0, 0, 0, 3, 4, 0, 0, 0, 0, 0, 0, 0, 0, 0, 0, 0, 0, 0, 0, 0])\n",
            "(['The', 'following', 'floating-rate', 'issue', 'was', 'announced', 'by', 'lead', 'manager', 'Lehman', 'Brothers', 'International', '.'], [0, 0, 0, 0, 0, 0, 0, 0, 0, 3, 4, 4, 0])\n",
            "(['Martin', 'Damm', '(', 'Czech', 'Republic', ')', 'beat', '6', '-', 'Younes', 'El', 'Aynaoui'], [1, 2, 0, 5, 6, 0, 0, 0, 0, 1, 2, 2])\n",
            "(['Extras', '(', 'lb-11', 'w-1', 'nb-8', ')', '20'], [0, 0, 0, 0, 0, 0, 0])\n",
            "(['I.', 'Salisbury', 'not', 'out', '1'], [1, 2, 0, 0, 0])\n",
            "([\"O'Meara\", ',', 'Fred', 'Couples'], [1, 0, 1, 2])\n",
            "(['Gloria', 'Bistrita', '(', 'Romania', ')', 'beat', '2-1', '(', 'halftime', '1-1', ')', 'F.C.', 'Valletta', '(', 'Malta', ')', 'in', 'their', 'Cup', 'winners', 'Cup', 'match', ',', 'second', 'leg', 'of', 'the', 'preliminary', 'round', ',', 'on', 'Thursday', '.'], [3, 4, 0, 5, 0, 0, 0, 0, 0, 0, 0, 3, 4, 0, 5, 0, 0, 0, 7, 8, 8, 0, 0, 0, 0, 0, 0, 0, 0, 0, 0, 0, 0])\n",
            "(['PHOENIX', '1996-08-22'], [5, 0])\n",
            "(['Fall', 'of', 'wickets', ':', '1-64', '2-85', '3-116', '4-205', '5-248', '6-273'], [0, 0, 0, 0, 0, 0, 0, 0, 0, 0])\n",
            "(['AMSTERDAM', '1996-08-22'], [5, 0])\n",
            "(['\"', 'Our', 'stand', 'is', 'firm', ',', 'namely', 'we', 'are', 'calling', 'on', '(', 'the', 'Russian', ')', 'government', 'to', 'end', 'the', 'economic', 'embargo', 'on', 'Iraq', 'and', 'resume', 'trade', 'ties', 'between', 'Russia', 'and', 'Iraq', ',', '\"', 'he', 'told', 'reporters', '.'], [0, 0, 0, 0, 0, 0, 0, 0, 0, 0, 0, 0, 0, 7, 0, 0, 0, 0, 0, 0, 0, 0, 5, 0, 0, 0, 0, 0, 5, 0, 5, 0, 0, 0, 0, 0, 0])\n",
            "(['Germany', \"'s\", 'representative', 'to', 'the', 'European', 'Union', \"'s\", 'veterinary', 'committee', 'Werner', 'Zwingmann', 'said', 'on', 'Wednesday', 'consumers', 'should', 'buy', 'sheepmeat', 'from', 'countries', 'other', 'than', 'Britain', 'until', 'the', 'scientific', 'advice', 'was', 'clearer', '.'], [5, 0, 0, 0, 0, 3, 4, 0, 0, 0, 1, 2, 0, 0, 0, 0, 0, 0, 0, 0, 0, 0, 0, 5, 0, 0, 0, 0, 0, 0, 0])\n",
            "(['\"', 'Our', 'ambassador', 'is', 'in', 'touch', 'with', 'the', 'UAE', 'foreign', 'ministry', '.'], [0, 0, 0, 0, 0, 0, 0, 0, 5, 0, 0, 0])\n",
            "(['CARLSBAD', ',', 'California', '1996-08-21'], [5, 0, 5, 0])\n",
            "(['Well', 'repairs', 'to', 'lift', 'Heidrun', 'oil', 'output', '-', 'Statoil', '.'], [0, 0, 0, 0, 5, 0, 0, 0, 3, 0])\n",
            "(['Iraqi', 'Kurdish', 'areas', 'bordering', 'Iran', 'are', 'under', 'the', 'control', 'of', 'guerrillas', 'of', 'the', 'Iraqi', 'Kurdish', 'Patriotic', 'Union', 'of', 'Kurdistan', '(', 'PUK', ')', 'group', '.'], [7, 8, 0, 0, 5, 0, 0, 0, 0, 0, 0, 0, 0, 3, 4, 4, 4, 4, 4, 0, 3, 0, 0, 0])\n",
            "(['76', 'Scott', 'McCarron'], [0, 1, 2])\n",
            "(['AD-DIYAR'], [3])\n",
            "(['Hever', 'Golf', 'Rose', '(', '11-4', ')', ',', 'last', 'year', \"'s\", 'Prix', 'de', 'l', \"'\", 'Abbaye', 'winner', 'at', 'Longchamp', ',', 'finished', 'third', ',', 'a', 'further', 'one', 'and', 'a', 'quarter', 'lengths', 'away', 'with', 'the', '7-4', 'favourite', 'Mind', 'Games', 'in', 'fourth', '.'], [1, 2, 2, 0, 0, 0, 0, 0, 0, 0, 7, 8, 8, 8, 8, 0, 0, 5, 0, 0, 0, 0, 0, 0, 0, 0, 0, 0, 0, 0, 0, 0, 0, 0, 1, 2, 0, 0, 0])\n",
            "(['China', 'has', 'said', 'it', 'was', 'time', 'for', 'political', 'talks', 'with', 'Taiwan', 'and', 'that', 'the', 'rival', 'island', 'should', 'take', 'practical', 'steps', 'towards', 'that', 'goal', '.'], [5, 0, 0, 0, 0, 0, 0, 0, 0, 0, 5, 0, 0, 0, 0, 0, 0, 0, 0, 0, 0, 0, 0, 0])\n",
            "(['4', '-', 'Marcelo', 'Rios', '(', 'Chile', ')', 'beat', 'Kenneth', 'Carlsen', '(', 'Denmark', ')', '6-3', '6-2'], [0, 0, 1, 2, 0, 5, 0, 0, 1, 2, 0, 5, 0, 0, 0])\n",
            "(['The', 'office', 'said', '356,725', 'new', 'cars', 'were', 'registered', 'in', 'July', '1996', '--', '304,850', 'passenger', 'cars', 'and', '15,613', 'trucks', '.'], [0, 0, 0, 0, 0, 0, 0, 0, 0, 0, 0, 0, 0, 0, 0, 0, 0, 0, 0])\n",
            "(['FRONT', 'PAGE'], [0, 0])\n",
            "(['DUBAI', '1996-08-22'], [5, 0])\n",
            "(['Ireland', 'midfielder', 'Roy', 'Keane', 'has', 'signed', 'a', 'new', 'four-year', 'contract', 'with', 'English', 'league', 'and', 'F.A.', 'Cup', 'champions', 'Manchester', 'United', '.'], [5, 0, 1, 2, 0, 0, 0, 0, 0, 0, 0, 7, 0, 0, 7, 8, 0, 3, 4, 0])\n",
            "(['British', 'officials', 'say', 'sheep', 'meat', 'is', 'perfectly', 'safe', 'to', 'eat', '.'], [7, 0, 0, 0, 0, 0, 0, 0, 0, 0, 0])\n",
            "(['Yasser', 'Arafat', 'will', 'meet', 'Shimon', 'Peres', 'in', 'Gaza', 'on', 'Thursday', 'after', 'Palestinians', 'said', 'the', 'right-wing', 'Israeli', 'government', 'had', 'barred', 'the', 'Palestinian', 'leader', 'from', 'flying', 'to', 'the', 'West', 'Bank', 'for', 'talks', 'with', 'the', 'former', 'prime', 'minister', '.'], [1, 2, 0, 0, 1, 2, 0, 5, 0, 0, 0, 7, 0, 0, 0, 7, 0, 0, 0, 0, 7, 0, 0, 0, 0, 0, 5, 6, 0, 0, 0, 0, 0, 0, 0, 0])\n",
            "(['Result', 'of', 'the', 'Nunthorpe', 'Stakes', ',', 'a', 'group', 'one', 'race', 'for', 'two-year-olds', 'and', 'upwards', ',', 'run', 'over', 'five', 'furlongs', '(', '1', 'km', ')', 'on', 'Thursday', ':'], [0, 0, 0, 7, 8, 0, 0, 0, 0, 0, 0, 0, 0, 0, 0, 0, 0, 0, 0, 0, 0, 0, 0, 0, 0, 0])\n",
            "(['He', 'added', ':', '\"', 'If', 'no', 'one', 'asked', ',', 'I', 'never', 'opened', 'my', 'mouth', '.'], [0, 0, 0, 0, 0, 0, 0, 0, 0, 0, 0, 0, 0, 0, 0])\n",
            "(['Scoreboard', 'on', 'the', 'first', 'day', 'of', 'the'], [0, 0, 0, 0, 0, 0, 0])\n",
            "(['Gloria', 'Bistrita', '-', 'Ilie', 'Lazar', '(', '32nd', ')', ',', 'Eugen', 'Voica', '(', '84th', ')'], [3, 4, 0, 1, 2, 0, 0, 0, 0, 1, 2, 0, 0, 0])\n",
            "(['Outlook', 'for', 'a', 'bullish', 'cattle-on-feed', 'report', 'is', 'also', 'expected', 'to', 'lend', 'support', 'and', 'prompt', 'some', 'bull', 'spreading', ',', 'analysts', 'said', '.'], [0, 0, 0, 0, 0, 0, 0, 0, 0, 0, 0, 0, 0, 0, 0, 0, 0, 0, 0, 0, 0])\n",
            "(['Total', 'Revenue', '$', '10,756', '$', '13,102', '$', '7,961', '$', '5,507'], [0, 0, 0, 0, 0, 0, 0, 0, 0, 0])\n",
            "(['Earnings', 'Per', 'Share', '0.31', '0.34', '0.19', '0.20'], [0, 0, 0, 0, 0, 0, 0])\n",
            "(['\"', 'The', 'meeting', 'between', 'Peres', 'and', 'Arafat', 'will', 'take', 'place', 'at', 'Erez', 'checkpoint', 'in', 'Gaza', 'and', 'not', 'in', 'Ramallah', 'as', 'planned', ',', '\"', 'Peres', \"'\", 'office', 'said', '.'], [0, 0, 0, 0, 1, 0, 1, 0, 0, 0, 0, 5, 0, 0, 5, 0, 0, 0, 5, 0, 0, 0, 0, 1, 0, 0, 0, 0])\n",
            "(['The', 'foreign', 'ministry', \"'s\", 'Shen', 'told', 'Reuters', 'Television', 'in', 'an', 'interview', 'he', 'had', 'read', 'reports', 'of', 'Tang', \"'s\", 'comments', 'but', 'gave', 'no', 'details', 'of', 'why', 'the', 'negotiator', 'had', 'considered', 'the', 'time', 'right', 'for', 'talks', 'with', 'Taiwan', ',', 'which', 'Beijing', 'considers', 'a', 'renegade', 'province', '.'], [0, 0, 0, 0, 3, 0, 3, 4, 0, 0, 0, 0, 0, 0, 0, 0, 1, 0, 0, 0, 0, 0, 0, 0, 0, 0, 0, 0, 0, 0, 0, 0, 0, 0, 0, 5, 0, 0, 5, 0, 0, 0, 0, 0])\n",
            "(['He', 'added', ':', '\"', 'It', \"'s\", 'very', 'sad', 'to', 'beat', 'Henry', 'Candy', 'because', 'I', 'am', 'godfather', 'to', 'his', 'daughter', '.', '\"'], [0, 0, 0, 0, 0, 0, 0, 0, 0, 0, 1, 2, 0, 0, 0, 0, 0, 0, 0, 0, 0])\n",
            "(['(', 'Sweden', ')', ',', 'Nick', 'Faldo', '(', 'Britain', ')', ',', 'John', 'Cook', ',', 'Steve', 'Jones', ',', 'Phil'], [0, 5, 0, 0, 1, 2, 0, 5, 0, 0, 1, 2, 0, 1, 2, 0, 1])\n",
            "(['The', 'three', 'Islamic', 'Taleban', 'guards', 'were', 'overpowered', 'by', 'seven', 'Russian', 'aircrew', 'who', 'escaped', 'to', 'UAE', 'state', 'Sharjah', 'last', 'Friday', 'on', 'board', 'their', 'own', 'aircraft', 'after', 'a', 'year', 'in', 'the', 'captivity', 'of', 'Taleban', 'militia', 'in', 'Kandahar', 'in', 'southern', 'Afghanistan', '.'], [0, 0, 7, 8, 0, 0, 0, 0, 0, 7, 0, 0, 0, 0, 5, 0, 5, 0, 0, 0, 0, 0, 0, 0, 0, 0, 0, 0, 0, 0, 0, 7, 0, 0, 5, 0, 0, 5, 0])\n",
            "(['Opel', 'AG', 'together', 'with', 'General', 'Motors', 'came', 'in', 'second', 'place', 'with', '49,269', 'registrations', ',', '16.4', 'percent', 'of', 'the', 'overall', 'figure', '.'], [3, 4, 0, 0, 3, 4, 0, 0, 0, 0, 0, 0, 0, 0, 0, 0, 0, 0, 0, 0, 0])\n",
            "(['\"', 'Roy', 'agreed', 'a', 'new', 'deal', 'before', 'last', 'night', \"'s\", 'game', 'against', 'Everton', 'and', 'we', 'are', 'delighted', ',', '\"', 'said', 'United', 'manager', 'Alex', 'Ferguson', 'on', 'Thursday', '.'], [0, 1, 0, 0, 0, 0, 0, 0, 0, 0, 0, 0, 3, 0, 0, 0, 0, 0, 0, 0, 3, 0, 1, 2, 0, 0, 0])\n",
            "(['MONTGOMERY', ',', 'Ala', '.'], [5, 0, 5, 0])\n",
            "(['--', 'London', 'Newsroom', '+44', '171', '542', '8863'], [0, 3, 4, 0, 0, 0, 0])\n",
            "(['Two', 'Iranian', 'opposition', 'leaders', 'meet', 'in', 'Baghdad', '.'], [0, 7, 0, 0, 0, 0, 5, 0])\n",
            "(['1-6', '6-4', '6-3'], [0, 0, 0])\n",
            "(['Netanyahu', 'and', 'Levy', \"'s\", 'spokesmen', 'said', 'they', 'could', 'not', 'confirm', 'it', '.'], [1, 0, 1, 0, 0, 0, 0, 0, 0, 0, 0, 0])\n",
            "(['52', ')', 'v', 'Worcestershire', '.'], [0, 0, 0, 3, 0])\n",
            "(['G.', 'Thorpe', 'lbw', 'b', 'Mohammad', 'Akram', '54'], [1, 2, 0, 0, 1, 2, 0])\n",
            "(['M.', 'Atherton', 'b', 'Waqar', 'Younis', '31'], [1, 2, 0, 1, 2, 0])\n",
            "(['third', 'and', 'final', 'test', 'between', 'England', 'and', 'Pakistan', 'at', 'The', 'Oval', 'on'], [0, 0, 0, 0, 0, 5, 0, 5, 0, 5, 6, 0])\n",
            "(['Mujahideen', 'Khalq', 'said', 'Iranian', 'troops', 'had', 'also', 'been', 'shelling', 'KDP', 'positions', 'in', 'Qasri', 'region', 'in', 'Suleimaniya', 'province', 'near', 'the', 'Iranian', 'border', 'over', 'the', 'last', 'two', 'days', '.'], [3, 4, 0, 7, 0, 0, 0, 0, 0, 3, 0, 0, 5, 0, 0, 5, 0, 0, 0, 7, 0, 0, 0, 0, 0, 0, 0])\n",
            "(['GOV', 'LAW', 'ENGLISH', 'HOME', 'CTRY', 'SWEDEN', 'TAX', 'PROVS', 'STANDARD'], [0, 0, 7, 0, 0, 5, 0, 0, 0])\n",
            "(['7', '-', 'Todd', 'Martin', '(', 'U.S.', ')', 'beat', 'Renzo', 'Furlan', '(', 'Italy', ')', '7-6', '(', '7-3', ')', '6-3'], [0, 0, 1, 2, 0, 5, 0, 0, 1, 2, 0, 5, 0, 0, 0, 0, 0, 0])\n",
            "(['(', 'Spain', ')', '6-1', '6-2'], [0, 5, 0, 0, 0])\n",
            "(['LATTAKIA', ',', 'Aug', '10', '-', 'waiting', 'time', 'at', 'Lattakia', 'and', 'Tartous', 'presently', '24', 'hours', '.'], [5, 0, 0, 0, 0, 0, 0, 0, 5, 0, 5, 0, 0, 0, 0])\n",
            "(['Favourite', ':', 'Mind', 'Games', '(', '7-4', ')', 'finished', '4th'], [0, 0, 1, 2, 0, 0, 0, 0, 0])\n",
            "(['Sir', 'Mark', 'Prescott', 'landed', 'his', 'first', 'group', 'one', 'victory', 'in', '25', 'years', 'as', 'a', 'trainer', 'when', 'his', 'top', 'sprinter', 'Pivotal', ',', 'a', '100-30', 'chance', ',', 'won', 'the', 'Nunthorpe', 'Stakes', 'on', 'Thursday', '.'], [0, 1, 2, 0, 0, 0, 0, 0, 0, 0, 0, 0, 0, 0, 0, 0, 0, 0, 0, 1, 0, 0, 0, 0, 0, 0, 0, 7, 8, 0, 0, 0])\n",
            "(['LONDON', '1996-08-22'], [5, 0])\n",
            "(['JERUSALEM', '1996-08-22'], [5, 0])\n",
            "(['Dalglish', 'had', 'been', 'with', 'Blackburn', 'for', 'nearly', 'five', 'years', ',', 'first', 'as', 'manager', 'and', 'then', ',', 'for', 'the', 'past', '15', 'months', ',', 'as', 'director', 'of', 'football', '.'], [1, 0, 0, 0, 3, 0, 0, 0, 0, 0, 0, 0, 0, 0, 0, 0, 0, 0, 0, 0, 0, 0, 0, 0, 0, 0, 0])\n",
            "(['Last', 'October', 'he', 'was', 'invited', 'to', 'attend', 'the', 'referendum', 'held', 'on', 'Iraq', \"'s\", 'presidency', ',', 'which', 'extended', 'Saddam', \"'s\", 'term', 'for', 'seven', 'more', 'years', '.'], [0, 0, 0, 0, 0, 0, 0, 0, 0, 0, 0, 5, 0, 0, 0, 0, 0, 1, 0, 0, 0, 0, 0, 0, 0])\n",
            "(['Arafat', 'had', 'been', 'scheduled', 'to', 'meet', 'former', 'Israeli', 'prime', 'minister', 'Shimon', 'Peres', 'in', 'the', 'West', 'Bank', 'town', 'of', 'Ramallah', 'on', 'Thursday', 'but', 'the', 'venue', 'was', 'changed', 'to', 'Gaza', 'after', 'Israel', 'denied', 'flight', 'clearance', 'to', 'the', 'Palestinian', 'leader', \"'s\", 'helicopters', '.'], [1, 0, 0, 0, 0, 0, 0, 7, 0, 0, 1, 2, 0, 0, 5, 6, 0, 0, 5, 0, 0, 0, 0, 0, 0, 0, 0, 5, 0, 5, 0, 0, 0, 0, 0, 7, 0, 0, 0, 0])\n",
            "(['But', 'Fischler', 'agreed', 'to', 'review', 'his', 'proposal', 'after', 'the', 'EU', \"'s\", 'standing', 'veterinary', 'committee', ',', 'mational', 'animal', 'health', 'officials', ',', 'questioned', 'if', 'such', 'action', 'was', 'justified', 'as', 'there', 'was', 'only', 'a', 'slight', 'risk', 'to', 'human', 'health', '.'], [0, 1, 0, 0, 0, 0, 0, 0, 0, 3, 0, 0, 0, 0, 0, 0, 0, 0, 0, 0, 0, 0, 0, 0, 0, 0, 0, 0, 0, 0, 0, 0, 0, 0, 0, 0, 0])\n",
            "(['Second', 'day'], [0, 0])\n",
            "(['The', 'figures', 'represent', 'a', '13.6', 'percent', 'increase', 'for', 'passenger', 'cars', 'and', 'a', '2.2', 'percent', 'decline', 'for', 'trucks', 'from', 'July', '1995', '.'], [0, 0, 0, 0, 0, 0, 0, 0, 0, 0, 0, 0, 0, 0, 0, 0, 0, 0, 0, 0, 0])\n",
            "(['Finland', \"'s\", 'trade', 'surplus', 'rose', 'to', '3.83', 'billion', 'markka', 'in', 'April', 'from', '3.43', 'billion', 'in', 'March', ',', 'the', 'National', 'Customs', 'Board', '(', 'NCB', ')', 'said', 'in', 'a', 'statement', 'on', 'Thursday', '.'], [5, 0, 0, 0, 0, 0, 0, 0, 0, 0, 0, 0, 0, 0, 0, 0, 0, 0, 3, 4, 4, 0, 3, 0, 0, 0, 0, 0, 0, 0, 0])\n",
            "(['TYPE', 'STRAIGHT', 'ISS', 'PRICE', '100.92', 'PAY', 'DATE', '24.SEP.96'], [0, 0, 0, 0, 0, 0, 0, 0])\n",
            "(['\"', 'The', 'problem', 'is', 'over', '.'], [0, 0, 0, 0, 0, 0])\n",
            "(['Port', 'conditions', 'update', '-', 'Syria', '-', 'Lloyds', 'Shipping', '.'], [0, 0, 0, 0, 5, 0, 3, 4, 0])\n",
            "(['At', 'Headingley', ':', 'Yorkshire', '305-5', '(', 'C.', 'White', '66', 'not', 'out', ',', 'M.', 'Moxon'], [0, 5, 0, 3, 0, 0, 1, 2, 0, 0, 0, 0, 1, 2])\n",
            "(['--', 'FLNC', 'Corsican', 'nationalist', 'movement', 'announces', 'end', 'of', 'truce', 'after', 'last', 'night', \"'s\", 'attacks', '.'], [0, 3, 7, 0, 0, 0, 0, 0, 0, 0, 0, 0, 0, 0, 0])\n",
            "(['Net', 'Income', '821', '512', '565', '301'], [0, 0, 0, 0, 0, 0])\n",
            "(['-', 'Maronite', 'Patriarch', 'Sfeir', 'expressed', 'sorrow', 'over', 'the', 'violations', 'in', 'Sunday', \"'\", 'elections', '.'], [0, 3, 0, 1, 0, 0, 0, 0, 0, 0, 0, 0, 0, 0])\n",
            "(['Patrick', 'Rafter', '(', 'Australia', ')', 'beat', '11', '-', 'Alberto', 'Berasategui'], [1, 2, 0, 5, 0, 0, 0, 0, 1, 2])\n",
            "(['The', 'following', 'bond', 'was', 'announced', 'by', 'lead', 'manager', 'Toronto', 'Dominion', '.'], [0, 0, 0, 0, 0, 0, 0, 0, 1, 2, 0])\n",
            "(['COMMACK', ',', 'New', 'York', '1996-08-21'], [5, 0, 5, 6, 0])\n",
            "(['It', 'brought', 'in', '4,275', 'tonnes', 'of', 'British', 'mutton', ',', 'some', '10', 'percent', 'of', 'overall', 'imports', '.'], [0, 0, 0, 0, 0, 0, 7, 0, 0, 0, 0, 0, 0, 0, 0, 0])\n",
            "(['74', 'Paul', 'Stankowski', ',', 'Costantino', 'Rocca', '(', 'Italy', ')'], [0, 1, 2, 0, 1, 2, 0, 5, 0])\n",
            "(['-', 'Parliamentary', 'battle', 'in', 'Beirut', '..'], [0, 0, 0, 0, 5, 0])\n",
            "(['Distances', ':', 'a', 'short', 'head', ',', '1-1/4', 'lengths', '.'], [0, 0, 0, 0, 0, 0, 0, 0, 0])\n",
            "(['LAST', 'MOODY', 'AA3', 'ISS', 'PRICE', '99.956', 'FULL', 'FEES', '10', 'BP'], [0, 0, 0, 0, 0, 0, 0, 0, 0, 0])\n",
            "(['A', 'U.S.-led', 'air', 'force', 'in', 'southern', 'Turkey', 'protects', 'Iraqi', 'Kurds', 'from', 'possible', 'attacks', 'by', 'Baghdad', 'troops', '.'], [0, 7, 0, 0, 0, 0, 5, 0, 7, 8, 0, 0, 0, 0, 5, 0, 0])\n",
            "(['--', 'Lehman', 'analyst', 'Blake', 'Bath', 'started', 'Southern', 'New', 'England', 'Telecommunciations', 'Corp', 'with', 'an', 'outperform', 'rating', ',', 'his', 'office', 'said', '.'], [0, 3, 0, 1, 2, 0, 3, 4, 4, 4, 4, 0, 0, 0, 0, 0, 0, 0, 0, 0])\n",
            "(['\"', 'I', 'do', 'not', 'want', 'to', 'say', 'that', 'there', 'is', 'a', 'concrete', 'danger', 'for', 'consumers', ',', '\"', 'he', 'added', '.', '\"'], [0, 0, 0, 0, 0, 0, 0, 0, 0, 0, 0, 0, 0, 0, 0, 0, 0, 0, 0, 0, 0])\n",
            "(['N.', 'Hussain', 'c', 'Saeed', 'Anwar', 'b', 'Waqar', 'Younis', '12'], [1, 2, 0, 1, 2, 0, 1, 2, 0])\n",
            "(['State', 'media', 'quoted', 'China', \"'s\", 'top', 'negotiator', 'with', 'Taipei', ',', 'Tang', 'Shubei', ',', 'as', 'telling', 'a', 'visiting', 'group', 'from', 'Taiwan', 'on', 'Wednesday', 'that', 'it', 'was', 'time', 'for', 'the', 'rivals', 'to', 'hold', 'political', 'talks', '.'], [0, 0, 0, 5, 0, 0, 0, 0, 5, 0, 1, 2, 0, 0, 0, 0, 0, 0, 0, 5, 0, 0, 0, 0, 0, 0, 0, 0, 0, 0, 0, 0, 0, 0])\n",
            "(['-', 'Continued', 'criticism', 'of', 'law', 'violation', 'incidents', '--', 'which', 'occurred', 'in', 'the', 'Mount', 'Lebanon', 'elections', 'last', 'Sunday', '.'], [0, 0, 0, 0, 0, 0, 0, 0, 0, 0, 0, 0, 5, 6, 0, 0, 0, 0])\n",
            "(['C.', 'Lewis', 'b', 'Wasim', 'Akram', '5'], [1, 2, 0, 1, 2, 0])\n",
            "(['Total', 'Assets', '14,196', '7,138'], [0, 0, 0, 0])\n",
            "(['\"', 'What', 'we', 'have', 'to', 'be', 'extremely', 'careful', 'of', 'is', 'how', 'other', 'countries', 'are', 'going', 'to', 'take', 'Germany', \"'s\", 'lead', ',', '\"', 'Welsh', 'National', 'Farmers', \"'\", 'Union', '(', 'NFU', ')', 'chairman', 'John', 'Lloyd', 'Jones', 'said', 'on', 'BBC', 'radio', '.'], [0, 0, 0, 0, 0, 0, 0, 0, 0, 0, 0, 0, 0, 0, 0, 0, 0, 5, 0, 0, 0, 0, 3, 4, 4, 4, 4, 0, 3, 0, 0, 1, 2, 2, 0, 0, 3, 4, 0])\n",
            "(['He', 'said', 'further', 'scientific', 'study', 'was', 'required', 'and', 'if', 'it', 'was', 'found', 'that', 'action', 'was', 'needed', 'it', 'should', 'be', 'taken', 'by', 'the', 'European', 'Union', '.'], [0, 0, 0, 0, 0, 0, 0, 0, 0, 0, 0, 0, 0, 0, 0, 0, 0, 0, 0, 0, 0, 0, 3, 4, 0])\n",
            "(['Glamorgan', '.'], [3, 0])\n",
            "(['CME', 'live', 'and', 'feeder', 'cattle', 'calls', 'range', 'mixed', '.'], [3, 0, 0, 0, 0, 0, 0, 0, 0])\n",
            "(['tennis', 'tournament', 'on', 'Wednesday', '(', 'prefix', 'number', 'denotes'], [0, 0, 0, 0, 0, 0, 0, 0])\n",
            "(['England', 'first', 'innings'], [5, 0, 0])\n",
            "(['Peace', 'talks', 'between', 'the', 'two', 'sides', 'were', 'last', 'held', 'in', 'February', '.'], [0, 0, 0, 0, 0, 0, 0, 0, 0, 0, 0, 0])\n",
            "(['Second', 'round'], [0, 0])\n",
            "(['The', 'January-April', '1995', 'import', 'figure', 'was', 'revised', 'from', '39,584', 'million', 'markka', 'and', 'the', 'export', 'figure', 'from', '55,627', 'million', 'markka', '.'], [0, 0, 0, 0, 0, 0, 0, 0, 0, 0, 0, 0, 0, 0, 0, 0, 0, 0, 0, 0])\n",
            "(['BISTRITA', '1996-08-22'], [5, 0])\n",
            "(['--', 'Dimitris', 'Kontogiannis', ',', 'Athens', 'Newsroom', '+301', '3311812-4'], [0, 1, 2, 0, 3, 4, 0, 0])\n",
            "(['Scores', 'from', 'the', '$', '2.1'], [0, 0, 0, 0, 0])\n",
            "(['He', 'said', 'that', 'there', 'are', 'an', 'estimated', '800', 'Polish', 'nurses', 'working', 'in', 'Libya', '.'], [0, 0, 0, 0, 0, 0, 0, 0, 7, 0, 0, 0, 5, 0])\n",
            "(['1', '-', 'Arantxa', 'Sanchez', 'Vicario', '(', 'Spain', ')', 'beat', 'Naoko', 'Kijimuta', '(', 'Japan', ')'], [0, 0, 1, 2, 2, 0, 5, 0, 0, 1, 2, 0, 5, 0])\n",
            "(['Daniel', 'Vacek', '(', 'Czech', 'Republic', ')', 'beat', '13', '-', 'Jason', 'Stoltenberg'], [1, 2, 0, 5, 6, 0, 0, 0, 0, 1, 2])\n",
            "(['AMT', '$', '300', 'MLN', 'SPREAD', '-', '12.5', 'BP', 'MATURITY', '21.JAN.99'], [0, 0, 0, 0, 0, 0, 0, 0, 0, 0])\n",
            "(['KinderCare', 'Learning', 'Centers', 'Inc', 'said', 'on', 'Thursday', 'that', 'a', 'debt', 'buyback', 'would', 'mean', 'an', 'extraordinary', 'loss', 'of', '$', '1.2', 'million', 'in', 'its', 'fiscal', '1997', 'first', 'quarter', '.'], [3, 4, 4, 4, 0, 0, 0, 0, 0, 0, 0, 0, 0, 0, 0, 0, 0, 0, 0, 0, 0, 0, 0, 0, 0, 0, 0])\n",
            "(['Results', 'from', 'the', 'Canadian', 'Open'], [0, 0, 0, 7, 8])\n",
            "(['-', 'Hariri', 'to', 'step', 'into', 'the', 'election', 'battle', 'with', 'an', 'incomplete', 'list', '.'], [0, 1, 0, 0, 0, 0, 0, 0, 0, 0, 0, 0, 0])\n",
            "(['71', 'Ernie', 'Els', '(', 'South', 'Africa', ')', ',', 'Scott', 'Hoch'], [0, 1, 2, 0, 5, 6, 0, 0, 1, 2])\n",
            "(['4', '-', 'Kimiko', 'Date', '(', 'Japan', ')', 'beat', 'Yone', 'Kamio', '(', 'Japan', ')', '6-2', '7-5'], [0, 0, 1, 2, 0, 5, 0, 0, 1, 2, 0, 5, 0, 0, 0])\n",
            "(['Saudi', 'riyal', 'rates', 'steady', 'in', 'quiet', 'summer', 'trade', '.'], [7, 0, 0, 0, 0, 0, 0, 0, 0])\n",
            "(['Value', 'to', 'winner', ':', '72,464', 'pounds', 'sterling', '(', '$', '112,200', ')'], [0, 0, 0, 0, 0, 0, 0, 0, 0, 0, 0])\n",
            "(['Israel', \"'s\", 'Channel', 'Two', 'television', 'said', 'Damascus', 'had', 'sent', 'a', '\"', 'calming', 'signal', '\"', 'to', 'Israel', '.'], [5, 0, 3, 4, 0, 0, 5, 0, 0, 0, 0, 0, 0, 0, 0, 5, 0])\n",
            "(['YORK', ',', 'England', '1996-08-22'], [5, 0, 5, 0])\n",
            "(['Glasgow', 'Rangers', 'striker', 'Ally', 'McCoist', ',', 'another', 'man', 'in', 'form', 'after', 'two', 'hat-tricks', 'in', 'four', 'days', ',', 'was', 'also', 'named', 'for', 'the', 'August', '31', 'World', 'Cup', 'qualifier', 'against', 'Austria', 'in', 'Vienna', '.'], [3, 4, 0, 1, 2, 0, 0, 0, 0, 0, 0, 0, 0, 0, 0, 0, 0, 0, 0, 0, 0, 0, 0, 0, 7, 8, 0, 0, 5, 0, 5, 0])\n",
            "(['When', 'asked', 'whether', 'the', 'three', 'guards', 'would', 'travel', 'back', 'to', 'Kandahar', 'or', 'the', 'Afghan', 'capital', 'Kabul', ',', 'the', 'embassy', 'official', 'said', ':', '\"', 'That', 'has', 'not', 'been', 'decided', ',', 'but', 'possibly', 'Kandahar', '.', '\"'], [0, 0, 0, 0, 0, 0, 0, 0, 0, 0, 5, 0, 0, 7, 0, 5, 0, 0, 0, 0, 0, 0, 0, 0, 0, 0, 0, 0, 0, 0, 0, 5, 0, 0])\n",
            "(['Their', 'return', 'to', 'Afghanistan', 'will', 'take', 'place', 'in', 'two', 'or', 'three', 'days', ',', '\"', 'an', 'embassy', 'official', 'said', '.'], [0, 0, 0, 5, 0, 0, 0, 0, 0, 0, 0, 0, 0, 0, 0, 0, 0, 0, 0])\n",
            "(['Second', 'round'], [0, 0])\n",
            "(['-', 'Turkish', 'foreign', 'minister', 'says', 'Turkey', 'will', 'take', 'part', 'in', 'the', 'Baghdad', 'trade', 'fair', 'that', 'will', 'be', 'held', 'in', 'November', '.'], [0, 7, 0, 0, 0, 5, 0, 0, 0, 0, 0, 5, 0, 0, 0, 0, 0, 0, 0, 0, 0])\n",
            "(['BAGHDAD', '1996-08-22'], [5, 0])\n",
            "(['Iraqi', 'President', 'Saddam', 'Hussein', 'has', 'told', 'visiting', 'Russian', 'ultra-nationalist', 'Vladimir', 'Zhirinovsky', 'that', 'Baghdad', 'wanted', 'to', 'maintain', '\"', 'friendship', 'and', 'cooperation', '\"', 'with', 'Moscow', ',', 'official', 'Iraqi', 'newspapers', 'said', 'on', 'Thursday', '.'], [7, 0, 1, 2, 0, 0, 0, 7, 0, 1, 2, 0, 5, 0, 0, 0, 0, 0, 0, 0, 0, 0, 5, 0, 0, 7, 0, 0, 0, 0, 0])\n",
            "(['TENNIS', '-', 'RESULTS', 'AT', 'TOSHIBA', 'CLASSIC', '.'], [0, 0, 0, 0, 7, 8, 0])\n",
            "(['The', 'EU', \"'s\", 'scientific', 'veterinary', 'and', 'multidisciplinary', 'committees', 'are', 'due', 'to', 're-examine', 'the', 'issue', 'early', 'next', 'month', 'and', 'make', 'recommendations', 'to', 'the', 'senior', 'veterinary', 'officials', '.'], [0, 3, 0, 0, 0, 0, 0, 0, 0, 0, 0, 0, 0, 0, 0, 0, 0, 0, 0, 0, 0, 0, 0, 0, 0, 0])\n",
            "(['CRICKET', '-', 'ENGLAND', 'V', 'PAKISTAN', 'FINAL', 'TEST', 'SCOREBOARD', '.'], [0, 0, 5, 0, 5, 0, 0, 0, 0])\n",
            "(['Germany', 'imported', '47,600', 'sheep', 'from', 'Britain', 'last', 'year', ',', 'nearly', 'half', 'of', 'total', 'imports', '.'], [5, 0, 0, 0, 0, 5, 0, 0, 0, 0, 0, 0, 0, 0, 0])\n",
            "(['Prime', 'Minister', 'Costas', 'Simitis', 'will', 'make', 'an', 'official', 'announcement', 'after', 'a', 'cabinet', 'meeting', 'later', 'on', 'Thursday', ',', 'said', 'Skandalidis', '.'], [0, 0, 1, 2, 0, 0, 0, 0, 0, 0, 0, 0, 0, 0, 0, 0, 0, 0, 1, 0])\n",
            "(['April', \"'\", '96', 'March', \"'\", '96', 'Jan-April', \"'\", '96', 'Jan-April', \"'\", '95'], [0, 0, 0, 0, 0, 0, 0, 0, 0, 0, 0, 0])\n",
            "(['Stewart', 'Ginn', '(', 'Australia', ')', ',', 'Corey', 'Pavin', ',', 'Craig', 'Stadler', ',', 'Mark'], [1, 2, 0, 5, 0, 0, 1, 2, 0, 1, 2, 0, 1])\n",
            "(['MANAMA', '1996-08-22'], [5, 0])\n",
            "(['Services', 'Revenue', '1,154', '692', '624', '465'], [0, 0, 0, 0, 0, 0])\n",
            "(['One-year', 'funds', 'were', 'at', 'six', ',', '5-7/8', 'percent', '.'], [7, 0, 0, 0, 0, 0, 0, 0, 0])\n",
            "(['The', 'embassy', 'official', 'said', 'the', 'three', 'men', ',', 'believed', 'to', 'be', 'in', 'their', '20s', ',', 'were', 'currently', 'in', 'Abu', 'Dhabi', '.'], [0, 0, 0, 0, 0, 0, 0, 0, 0, 0, 0, 0, 0, 0, 0, 0, 0, 0, 5, 6, 0])\n",
            "(['S&P', '=', 'DENOMS', '(', 'K', ')', '1-10-100', 'SALE', 'LIMITS', 'US', '/', 'UK', '/', 'CA'], [3, 0, 0, 0, 0, 0, 0, 0, 0, 5, 0, 5, 0, 5])\n",
            "(['I', 'have', 'stayed', 'out', 'of', 'the', 'way', 'and', 'let', 'them', 'get', 'on', 'with', 'the', 'job', '.'], [0, 0, 0, 0, 0, 0, 0, 0, 0, 0, 0, 0, 0, 0, 0, 0])\n",
            "(['seeding', ')', ':'], [0, 0, 0])\n",
            "(['BEIJING', '1996-08-22'], [5, 0])\n",
            "(['BAGHDAD', '1996-08-22'], [5, 0])\n",
            "(['Winner', 'owned', 'by', 'the', 'Cheveley', 'Park', 'Stud', 'and', 'trained', 'by', 'Sir'], [0, 0, 0, 0, 3, 4, 4, 0, 0, 0, 0])\n",
            "(['66', 'Paul', 'Goydos', ',', 'Billy', 'Mayfair', ',', 'Hidemichi', 'Tanaka', '(', 'Japan', ')'], [0, 1, 2, 0, 1, 2, 0, 1, 2, 0, 5, 0])\n",
            "(['Balance', '+3,831', '+3,428', '+12,696', '+15,272'], [0, 0, 0, 0, 0])\n",
            "(['(', '7-1', ')', '6-4'], [0, 0, 0, 0])\n",
            "(['Spanish', 'Farm', 'Minister', 'Loyola', 'de', 'Palacio', 'had', 'earlier', 'accused', 'Fischler', 'at', 'an', 'EU', 'farm', 'ministers', \"'\", 'meeting', 'of', 'causing', 'unjustified', 'alarm', 'through', '\"', 'dangerous', 'generalisation', '.', '\"'], [7, 0, 0, 1, 2, 2, 0, 0, 0, 1, 0, 0, 3, 0, 0, 0, 0, 0, 0, 0, 0, 0, 0, 0, 0, 0, 0])\n",
            "(['Speaking', 'only', 'hours', 'after', 'Chinese', 'state', 'media', 'said', 'the', 'time', 'was', 'right', 'to', 'engage', 'in', 'political', 'talks', 'with', 'Taiwan', ',', 'Foreign', 'Ministry', 'spokesman', 'Shen', 'Guofang', 'told', 'Reuters', ':', '\"', 'The', 'necessary', 'atmosphere', 'for', 'the', 'opening', 'of', 'the', 'talks', 'has', 'been', 'disrupted', 'by', 'the', 'Taiwan', 'authorities', '.', '\"'], [0, 0, 0, 0, 7, 0, 0, 0, 0, 0, 0, 0, 0, 0, 0, 0, 0, 0, 5, 0, 3, 4, 0, 1, 2, 0, 3, 0, 0, 0, 0, 0, 0, 0, 0, 0, 0, 0, 0, 0, 0, 0, 0, 5, 0, 0, 0])\n",
            "(['Jul', '31', ',', 'Jul', '31', ',', 'Jul', '31', ',', 'Jul', '31', ','], [0, 0, 0, 0, 0, 0, 0, 0, 0, 0, 0, 0])\n",
            "(['Israel', \"'s\", 'outgoing', 'peace', 'negotiator', 'with', 'Syria', 'said', 'on', 'Thursday', 'current', 'tensions', 'between', 'the', 'two', 'countries', 'appeared', 'to', 'be', 'a', 'storm', 'in', 'a', 'teacup', '.'], [5, 0, 0, 0, 0, 0, 5, 0, 0, 0, 0, 0, 0, 0, 0, 0, 0, 0, 0, 0, 0, 0, 0, 0, 0])\n",
            "(['No', 'one', 'benefits', 'from', 'wars', '.', '\"'], [0, 0, 0, 0, 0, 0, 0])\n",
            "(['(', 'Switzerland', ')', '6-3', '3-6', '7-6', '(', '8-6', ')'], [0, 5, 0, 0, 0, 0, 0, 0, 0])\n",
            "(['Results', 'from', 'the'], [0, 0, 0])\n",
            "(['81', 'Seiki', 'Okuda', '(', 'Japan', ')'], [0, 1, 2, 0, 5, 0])\n",
            "(['It', 'brought', 'in', '4,275', 'tonnes', 'of', 'British', 'mutton', ',', 'some', '10', 'percent', 'of', 'overall', 'imports', '.'], [0, 0, 0, 0, 0, 0, 7, 0, 0, 0, 0, 0, 0, 0, 0, 0])\n"
          ]
        }
      ],
      "source": [
        "print(train_data[0], train_label[0])\n",
        "print()\n",
        "\n",
        "# print batch\n",
        "for sentence, labels in train_dataloader:\n",
        "    [print(a) for a in zip([[index_to_token[word] for word in token_ind.tolist()] for token_ind in unpack_sequence(sentence)],\n",
        "          [label.tolist() for label in unpack_sequence(labels)])]\n",
        "    break\n",
        "\n",
        "print('\\n')\n",
        "\n",
        "#print whole data\n",
        "for sentence, labels in train_dataloader:\n",
        "    [print(a) for a in zip([[index_to_token[word] for word in token_ind.tolist()] for token_ind in unpack_sequence(sentence)],\n",
        "          [label.tolist() for label in unpack_sequence(labels)])]"
      ]
    },
    {
      "cell_type": "code",
      "execution_count": 518,
      "metadata": {},
      "outputs": [],
      "source": [
        "def use_glove(word):\n",
        "     if word in glove_embeddings:\n",
        "          return glove_embeddings[word]\n",
        "     else:\n",
        "          return np.zeros((300))"
      ]
    },
    {
      "attachments": {},
      "cell_type": "markdown",
      "metadata": {
        "id": "qd9NW6F4KZK7"
      },
      "source": [
        "### 1.3 Model "
      ]
    },
    {
      "attachments": {},
      "cell_type": "markdown",
      "metadata": {
        "id": "zxcX4EVWw6C6"
      },
      "source": [
        "#### 1.3.1 Definition"
      ]
    },
    {
      "cell_type": "code",
      "execution_count": 524,
      "metadata": {},
      "outputs": [],
      "source": [
        "class LSTMModel(nn.Module):\n",
        "    def __init__(self, vocab_size, hidden_dim, num_layers = 1,embedding_dim = 300):\n",
        "        super().__init__()\n",
        "        \n",
        "        self.lstm = nn.LSTM(embedding_dim, hidden_dim, num_layers, bidirectional=True)\n",
        "        self.fc = nn.Linear(2*hidden_dim, vocab_size)\n",
        "\n",
        "    def forward(self, input_sequence):\n",
        "        \n",
        "        # Unpack the input sequence into individual tokens\n",
        "        unpacked_sequence = unpack_sequence(input_sequence)\n",
        "\n",
        "        # Execute a forward pass of the LSTMModel\n",
        "        batch_size = len(unpacked_sequence)\n",
        "        \n",
        "        # Convert each token into an embedding vector\n",
        "        embedded_sequence = [torch.tensor([use_glove(index_to_token[word]) for word in token.tolist()], dtype=torch.float) for token in unpacked_sequence]\n",
        "        \n",
        "        # Pack the embedded sequence for variable length support\n",
        "        packed_sequence = pack_sequence(embedded_sequence, enforce_sorted=False)\n",
        "        \n",
        "        # Pass the packed sequence through the LSTM layer\n",
        "        lstm_output, (hidden_state, cell_state) = self.lstm(packed_sequence)\n",
        " \n",
        "        output = []\n",
        "        # unpack the LSTM output and pass it through the linear layer\n",
        "        \n",
        "        for out in unpack_sequence(lstm_output):\n",
        "            output.append(torch.stack(self.fc(out)))\n",
        "            \n",
        "        # Return the final output\n",
        "        return torch.stack(output)\n"
      ]
    },
    {
      "cell_type": "code",
      "execution_count": 525,
      "metadata": {},
      "outputs": [],
      "source": [
        "def labels_into_onehot(labels):\n",
        "    res = []\n",
        "    for label in labels:\n",
        "        onehot = np.zeros(len(tag2id),dtype=np.float64)\n",
        "        onehot[label] = 1.0\n",
        "        res.append(torch.tensor(onehot,dtype=torch.float))\n",
        "    return torch.stack(res)\n",
        "\n",
        "def batch_into_onehot(batch):\n",
        "    return labels_into_onehot(np.array(batch).flatten())\n",
        "    #return torch.stack([labels_into_onehot(labels) for labels in batch])\n",
        "        "
      ]
    },
    {
      "attachments": {},
      "cell_type": "markdown",
      "metadata": {
        "id": "-CsPUE1pw6C7"
      },
      "source": [
        "#### 1.3.2 Experiments"
      ]
    },
    {
      "cell_type": "code",
      "execution_count": 526,
      "metadata": {},
      "outputs": [
        {
          "ename": "RuntimeError",
          "evalue": "Can't call numpy() on Tensor that requires grad. Use tensor.detach().numpy() instead.",
          "output_type": "error",
          "traceback": [
            "\u001b[1;31m---------------------------------------------------------------------------\u001b[0m",
            "\u001b[1;31mRuntimeError\u001b[0m                              Traceback (most recent call last)",
            "Cell \u001b[1;32mIn[526], line 75\u001b[0m\n\u001b[0;32m     71\u001b[0m \u001b[39m# Create the model and train it\u001b[39;00m\n\u001b[0;32m     72\u001b[0m model \u001b[39m=\u001b[39m LSTMModel(tag_vocab_size,  hidden_dim)\n\u001b[1;32m---> 75\u001b[0m train(model)\n",
            "Cell \u001b[1;32mIn[526], line 26\u001b[0m, in \u001b[0;36mtrain\u001b[1;34m(model, lr, num_epochs)\u001b[0m\n\u001b[0;32m     23\u001b[0m \u001b[39m# Zero the gradients and forward pass\u001b[39;00m\n\u001b[0;32m     24\u001b[0m model\u001b[39m.\u001b[39mzero_grad()\n\u001b[1;32m---> 26\u001b[0m outputs \u001b[39m=\u001b[39m model(inputs)\n\u001b[0;32m     28\u001b[0m loss \u001b[39m=\u001b[39m criterion(outputs, batch_into_onehot(unpack_sequence(targets)))\n\u001b[0;32m     30\u001b[0m \u001b[39m# Backward pass and optimization step\u001b[39;00m\n",
            "File \u001b[1;32mc:\\Users\\markk\\AppData\\Local\\Programs\\Python\\Python39\\lib\\site-packages\\torch\\nn\\modules\\module.py:1194\u001b[0m, in \u001b[0;36mModule._call_impl\u001b[1;34m(self, *input, **kwargs)\u001b[0m\n\u001b[0;32m   1190\u001b[0m \u001b[39m# If we don't have any hooks, we want to skip the rest of the logic in\u001b[39;00m\n\u001b[0;32m   1191\u001b[0m \u001b[39m# this function, and just call forward.\u001b[39;00m\n\u001b[0;32m   1192\u001b[0m \u001b[39mif\u001b[39;00m \u001b[39mnot\u001b[39;00m (\u001b[39mself\u001b[39m\u001b[39m.\u001b[39m_backward_hooks \u001b[39mor\u001b[39;00m \u001b[39mself\u001b[39m\u001b[39m.\u001b[39m_forward_hooks \u001b[39mor\u001b[39;00m \u001b[39mself\u001b[39m\u001b[39m.\u001b[39m_forward_pre_hooks \u001b[39mor\u001b[39;00m _global_backward_hooks\n\u001b[0;32m   1193\u001b[0m         \u001b[39mor\u001b[39;00m _global_forward_hooks \u001b[39mor\u001b[39;00m _global_forward_pre_hooks):\n\u001b[1;32m-> 1194\u001b[0m     \u001b[39mreturn\u001b[39;00m forward_call(\u001b[39m*\u001b[39m\u001b[39minput\u001b[39m, \u001b[39m*\u001b[39m\u001b[39m*\u001b[39mkwargs)\n\u001b[0;32m   1195\u001b[0m \u001b[39m# Do not call functions when jit is used\u001b[39;00m\n\u001b[0;32m   1196\u001b[0m full_backward_hooks, non_full_backward_hooks \u001b[39m=\u001b[39m [], []\n",
            "Cell \u001b[1;32mIn[524], line 32\u001b[0m, in \u001b[0;36mLSTMModel.forward\u001b[1;34m(self, input_sequence)\u001b[0m\n\u001b[0;32m     29\u001b[0m     output\u001b[39m.\u001b[39mappend(\u001b[39mself\u001b[39m\u001b[39m.\u001b[39mfc(out))\n\u001b[0;32m     31\u001b[0m \u001b[39m# Return the final output\u001b[39;00m\n\u001b[1;32m---> 32\u001b[0m \u001b[39mreturn\u001b[39;00m torch\u001b[39m.\u001b[39mstack(np\u001b[39m.\u001b[39;49marray(output)\u001b[39m.\u001b[39mflatten())\n",
            "File \u001b[1;32mc:\\Users\\markk\\AppData\\Local\\Programs\\Python\\Python39\\lib\\site-packages\\torch\\_tensor.py:956\u001b[0m, in \u001b[0;36mTensor.__array__\u001b[1;34m(self, dtype)\u001b[0m\n\u001b[0;32m    954\u001b[0m     \u001b[39mreturn\u001b[39;00m handle_torch_function(Tensor\u001b[39m.\u001b[39m__array__, (\u001b[39mself\u001b[39m,), \u001b[39mself\u001b[39m, dtype\u001b[39m=\u001b[39mdtype)\n\u001b[0;32m    955\u001b[0m \u001b[39mif\u001b[39;00m dtype \u001b[39mis\u001b[39;00m \u001b[39mNone\u001b[39;00m:\n\u001b[1;32m--> 956\u001b[0m     \u001b[39mreturn\u001b[39;00m \u001b[39mself\u001b[39;49m\u001b[39m.\u001b[39;49mnumpy()\n\u001b[0;32m    957\u001b[0m \u001b[39melse\u001b[39;00m:\n\u001b[0;32m    958\u001b[0m     \u001b[39mreturn\u001b[39;00m \u001b[39mself\u001b[39m\u001b[39m.\u001b[39mnumpy()\u001b[39m.\u001b[39mastype(dtype, copy\u001b[39m=\u001b[39m\u001b[39mFalse\u001b[39;00m)\n",
            "\u001b[1;31mRuntimeError\u001b[0m: Can't call numpy() on Tensor that requires grad. Use tensor.detach().numpy() instead."
          ]
        }
      ],
      "source": [
        "device = torch.device('cuda' if torch.cuda.is_available() else 'cpu')\n",
        "\n",
        "train_losses = []\n",
        "val_losses = []\n",
        "\n",
        "def train(model, lr=0.001, num_epochs=40):\n",
        "    criterion = nn.CrossEntropyLoss()\n",
        "    optimizer = torch.optim.Adam(model.parameters(), lr=lr)\n",
        "    model.to(device)\n",
        "    loss = None\n",
        "\n",
        "    # Train the model\n",
        "    for epoch in range(num_epochs):\n",
        "      train_loss = 0.0\n",
        "      val_loss = 0.0\n",
        "\n",
        "      model.train()\n",
        "      for inputs, targets in train_dataloader:\n",
        "\n",
        "          inputs = inputs.to(device)\n",
        "          targets = targets.to(device)\n",
        "          \n",
        "          # Zero the gradients and forward pass\n",
        "          model.zero_grad()\n",
        "        \n",
        "          outputs = model(inputs)\n",
        "\n",
        "          loss = criterion(outputs, batch_into_onehot(unpack_sequence(targets)))\n",
        "\n",
        "          # Backward pass and optimization step\n",
        "          loss.backward()\n",
        "          optimizer.step()\n",
        "\n",
        "          train_loss += loss.item()\n",
        "          \n",
        "      # Validation\n",
        "      model.eval()\n",
        "      with torch.no_grad():\n",
        "\n",
        "        for inputs, targets in val_dataloader:\n",
        "\n",
        "            inputs = inputs.to(device)\n",
        "            targets = targets.to(device)\n",
        "\n",
        "            # Zero the gradients and forward pass\n",
        "            model.zero_grad()\n",
        "\n",
        "            outputs = model(inputs)\n",
        "            \n",
        "            loss = criterion(outputs, batch_into_onehot(unpack_sequence(targets)))\n",
        "\n",
        "            val_loss += loss.item()\n",
        "        \n",
        "        # Calculate average losses\n",
        "        train_loss /= len(train_dataloader)\n",
        "        val_loss /= len(val_dataloader)\n",
        "\n",
        "        # Save losses\n",
        "        train_losses.append(train_loss)\n",
        "        val_losses.append(val_loss)\n",
        "\n",
        "        print(f'Epoch {epoch + 1}/{num_epochs}, Train Loss: {train_loss:.4f}, Val Loss: {val_loss:.4f}, Perplexity: {np.exp(val_loss):.4f}')\n",
        "        \n",
        "        # Check if validation loss is increasing, and break the loop if it is\n",
        "        if  epoch > 1 and val_losses[-1] >= val_losses[-2] and val_losses[-2] >= val_losses[-3]:\n",
        "            break\n",
        "            \n",
        "tag_vocab_size = len(tag2id)\n",
        "hidden_dim = 400\n",
        "\n",
        "# Create the model and train it\n",
        "model = LSTMModel(tag_vocab_size,  hidden_dim)\n",
        "\n",
        "\n",
        "train(model)"
      ]
    },
    {
      "cell_type": "code",
      "execution_count": null,
      "metadata": {},
      "outputs": [
        {
          "data": {
            "image/png": "[encoded data removed]",
            "text/plain": [
              "<Figure size 640x480 with 1 Axes>"
            ]
          },
          "metadata": {},
          "output_type": "display_data"
        }
      ],
      "source": [
        "plt.plot(train_losses, label=\"Training Loss\")\n",
        "plt.plot(val_losses, label=\"Validation Loss\")\n",
        "plt.xlabel(\"Epoch\")\n",
        "plt.ylabel(\"Loss\")\n",
        "plt.legend()\n",
        "plt.show()"
      ]
    },
    {
      "attachments": {},
      "cell_type": "markdown",
      "metadata": {},
      "source": [
        "#### 1.3.3 Evaluation"
      ]
    },
    {
      "attachments": {},
      "cell_type": "markdown",
      "metadata": {
        "id": "a3Im7yxEKZLP"
      },
      "source": [
        "## 2 Pre-Trained Transformer"
      ]
    },
    {
      "attachments": {},
      "cell_type": "markdown",
      "metadata": {
        "id": "t8m7k9U5KZLP"
      },
      "source": [
        "### 2.1 Dataset & Dataloader"
      ]
    },
    {
      "attachments": {},
      "cell_type": "markdown",
      "metadata": {
        "id": "EZExQ5fZuq1d"
      },
      "source": [
        "### 2.2 Fine-Tuning"
      ]
    },
    {
      "attachments": {},
      "cell_type": "markdown",
      "metadata": {
        "id": "bAcdz9yYKZLS"
      },
      "source": [
        "#### 2.3 Comparison to RNN"
      ]
    },
    {
      "attachments": {},
      "cell_type": "markdown",
      "metadata": {},
      "source": [
        "#### 2.3.1 Setups"
      ]
    },
    {
      "attachments": {},
      "cell_type": "markdown",
      "metadata": {},
      "source": [
        "#### 2.3.2 Approaches"
      ]
    },
    {
      "attachments": {},
      "cell_type": "markdown",
      "metadata": {},
      "source": [
        "#### 2.3.3 Error Analysis"
      ]
    },
    {
      "attachments": {},
      "cell_type": "markdown",
      "metadata": {},
      "source": [
        "## 3 Conclusions"
      ]
    }
  ],
  "metadata": {
    "accelerator": "GPU",
    "colab": {
      "gpuType": "A100",
      "machine_shape": "hm",
      "provenance": []
    },
    "kernelspec": {
      "display_name": "Python 3",
      "name": "python3"
    },
    "language_info": {
      "codemirror_mode": {
        "name": "ipython",
        "version": 3
      },
      "file_extension": ".py",
      "mimetype": "text/x-python",
      "name": "python",
      "nbconvert_exporter": "python",
      "pygments_lexer": "ipython3",
      "version": "3.9.10"
    }
  },
  "nbformat": 4,
  "nbformat_minor": 0
}
